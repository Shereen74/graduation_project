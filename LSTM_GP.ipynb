{
  "cells": [
    {
      "cell_type": "markdown",
      "metadata": {
        "id": "view-in-github",
        "colab_type": "text"
      },
      "source": [
        "<a href=\"https://colab.research.google.com/github/Shereen74/graduation_project/blob/main/LSTM_GP.ipynb\" target=\"_parent\"><img src=\"https://colab.research.google.com/assets/colab-badge.svg\" alt=\"Open In Colab\"/></a>"
      ]
    },
    {
      "cell_type": "code",
      "execution_count": 1,
      "metadata": {
        "colab": {
          "base_uri": "https://localhost:8080/"
        },
        "id": "MB9m_xzfWFVO",
        "outputId": "787d6d06-4ecc-4def-a8e1-8fd9714612dd"
      },
      "outputs": [
        {
          "output_type": "stream",
          "name": "stdout",
          "text": [
            "/content/drive/MyDrive/GP\n"
          ]
        }
      ],
      "source": [
        "%cd /content/drive/MyDrive/GP"
      ]
    },
    {
      "cell_type": "code",
      "execution_count": 2,
      "metadata": {
        "colab": {
          "base_uri": "https://localhost:8080/"
        },
        "id": "Cu-4Bl_2WxME",
        "outputId": "73874461-eb62-4963-90b1-3a83f388d3c6"
      },
      "outputs": [
        {
          "output_type": "stream",
          "name": "stdout",
          "text": [
            "/content/drive/MyDrive/GP\n"
          ]
        }
      ],
      "source": [
        "!pwd"
      ]
    },
    {
      "cell_type": "code",
      "execution_count": 3,
      "metadata": {
        "id": "QzDTSQU8LESh"
      },
      "outputs": [],
      "source": [
        "import pandas as pd\n",
        "import numpy as np\n",
        "import matplotlib.pyplot as plt\n",
        "import seaborn as sns"
      ]
    },
    {
      "cell_type": "code",
      "execution_count": 4,
      "metadata": {
        "id": "Ta9LpzvP1pD2"
      },
      "outputs": [],
      "source": [
        "# I trained 1 model on the non-scaled features and the others with the scaled features to compare the accuracy between them\n",
        "# So I had to read all these files\n",
        "# train_daily_x = pd.read_csv('./train_daily_x.csv', keep_default_na=False, index_col=None)\n",
        "train_daily_y = pd.read_csv('./train_daily_y.csv', keep_default_na=False, index_col=None)\n",
        "# test_daily_x = pd.read_csv('./test_daily_x.csv', keep_default_na=False, index_col=None)\n",
        "test_daily_y = pd.read_csv('./test_daily_y.csv', keep_default_na=False, index_col=None)\n",
        "\n",
        "train_x_scaled = pd.read_csv('./train_x_scaled.csv', keep_default_na=False, index_col=None)\n",
        "test_x_scaled = pd.read_csv('./test_x_scaled.csv', keep_default_na=False, index_col=None)"
      ]
    },
    {
      "cell_type": "code",
      "source": [
        "test_daily_x = pd.read_csv('./test_daily_x.csv', keep_default_na=False, index_col=None)"
      ],
      "metadata": {
        "id": "UjzhYfcLHSze"
      },
      "execution_count": 10,
      "outputs": []
    },
    {
      "cell_type": "code",
      "execution_count": 6,
      "metadata": {
        "colab": {
          "base_uri": "https://localhost:8080/",
          "height": 505
        },
        "id": "gnSgIup-Ilf_",
        "outputId": "3e2c234e-3283-4399-d924-e5b1e077b18b"
      },
      "outputs": [
        {
          "output_type": "execute_result",
          "data": {
            "text/plain": [
              "          site_id  day  month  building_id  meter  square_feet  \\\n",
              "0               0    1      1            0      0       7432.0   \n",
              "1               0    1      1            1      0       2720.0   \n",
              "2               0    1      1            2      0       5376.0   \n",
              "3               0    1      1            3      0      23685.0   \n",
              "4               0    1      1            4      0     116607.0   \n",
              "...           ...  ...    ...          ...    ...          ...   \n",
              "13346740       15   31      8         1444      0      19619.0   \n",
              "13346741       15   31      8         1445      0       4298.0   \n",
              "13346742       15   31      8         1446      0      11265.0   \n",
              "13346743       15   31      8         1447      0      29775.0   \n",
              "13346744       15   31      8         1448      0      92271.0   \n",
              "\n",
              "          air_temperature  cloud_coverage  dew_temperature  precip_depth_1_hr  \\\n",
              "0                    25.0        6.000000             20.0          -0.173913   \n",
              "1                    25.0        6.000000             20.0          -0.173913   \n",
              "2                    25.0        6.000000             20.0          -0.173913   \n",
              "3                    25.0        6.000000             20.0          -0.173913   \n",
              "4                    25.0        6.000000             20.0          -0.173913   \n",
              "...                   ...             ...              ...                ...   \n",
              "13346740             22.8        0.363636             17.8          -0.198697   \n",
              "13346741             22.8        0.363636             17.8          -0.198697   \n",
              "13346742             22.8        0.363636             17.8          -0.198697   \n",
              "13346743             22.8        0.363636             17.8          -0.198697   \n",
              "13346744             22.8        0.363636             17.8          -0.198697   \n",
              "\n",
              "          ...  primary_use_Office  primary_use_Other  primary_use_Parking  \\\n",
              "0         ...                   0                  0                    0   \n",
              "1         ...                   0                  0                    0   \n",
              "2         ...                   0                  0                    0   \n",
              "3         ...                   0                  0                    0   \n",
              "4         ...                   0                  0                    0   \n",
              "...       ...                 ...                ...                  ...   \n",
              "13346740  ...                   0                  0                    0   \n",
              "13346741  ...                   0                  0                    0   \n",
              "13346742  ...                   0                  0                    0   \n",
              "13346743  ...                   0                  0                    0   \n",
              "13346744  ...                   1                  0                    0   \n",
              "\n",
              "          primary_use_Public services  primary_use_Religious worship  \\\n",
              "0                                   0                              0   \n",
              "1                                   0                              0   \n",
              "2                                   0                              0   \n",
              "3                                   0                              0   \n",
              "4                                   0                              0   \n",
              "...                               ...                            ...   \n",
              "13346740                            0                              0   \n",
              "13346741                            0                              0   \n",
              "13346742                            0                              0   \n",
              "13346743                            0                              0   \n",
              "13346744                            0                              0   \n",
              "\n",
              "          primary_use_Retail  primary_use_Services  \\\n",
              "0                          0                     0   \n",
              "1                          0                     0   \n",
              "2                          0                     0   \n",
              "3                          0                     0   \n",
              "4                          0                     0   \n",
              "...                      ...                   ...   \n",
              "13346740                   0                     0   \n",
              "13346741                   0                     0   \n",
              "13346742                   0                     0   \n",
              "13346743                   0                     0   \n",
              "13346744                   0                     0   \n",
              "\n",
              "          primary_use_Technology/science  primary_use_Utility  \\\n",
              "0                                      0                    0   \n",
              "1                                      0                    0   \n",
              "2                                      0                    0   \n",
              "3                                      0                    0   \n",
              "4                                      0                    0   \n",
              "...                                  ...                  ...   \n",
              "13346740                               0                    0   \n",
              "13346741                               0                    0   \n",
              "13346742                               0                    0   \n",
              "13346743                               0                    0   \n",
              "13346744                               0                    0   \n",
              "\n",
              "          primary_use_Warehouse/storage  \n",
              "0                                     0  \n",
              "1                                     0  \n",
              "2                                     0  \n",
              "3                                     0  \n",
              "4                                     0  \n",
              "...                                 ...  \n",
              "13346740                              0  \n",
              "13346741                              0  \n",
              "13346742                              0  \n",
              "13346743                              0  \n",
              "13346744                              0  \n",
              "\n",
              "[13346745 rows x 31 columns]"
            ],
            "text/html": [
              "\n",
              "  <div id=\"df-0a08dd72-b21a-420e-8b7d-9a03f0000b56\">\n",
              "    <div class=\"colab-df-container\">\n",
              "      <div>\n",
              "<style scoped>\n",
              "    .dataframe tbody tr th:only-of-type {\n",
              "        vertical-align: middle;\n",
              "    }\n",
              "\n",
              "    .dataframe tbody tr th {\n",
              "        vertical-align: top;\n",
              "    }\n",
              "\n",
              "    .dataframe thead th {\n",
              "        text-align: right;\n",
              "    }\n",
              "</style>\n",
              "<table border=\"1\" class=\"dataframe\">\n",
              "  <thead>\n",
              "    <tr style=\"text-align: right;\">\n",
              "      <th></th>\n",
              "      <th>site_id</th>\n",
              "      <th>day</th>\n",
              "      <th>month</th>\n",
              "      <th>building_id</th>\n",
              "      <th>meter</th>\n",
              "      <th>square_feet</th>\n",
              "      <th>air_temperature</th>\n",
              "      <th>cloud_coverage</th>\n",
              "      <th>dew_temperature</th>\n",
              "      <th>precip_depth_1_hr</th>\n",
              "      <th>...</th>\n",
              "      <th>primary_use_Office</th>\n",
              "      <th>primary_use_Other</th>\n",
              "      <th>primary_use_Parking</th>\n",
              "      <th>primary_use_Public services</th>\n",
              "      <th>primary_use_Religious worship</th>\n",
              "      <th>primary_use_Retail</th>\n",
              "      <th>primary_use_Services</th>\n",
              "      <th>primary_use_Technology/science</th>\n",
              "      <th>primary_use_Utility</th>\n",
              "      <th>primary_use_Warehouse/storage</th>\n",
              "    </tr>\n",
              "  </thead>\n",
              "  <tbody>\n",
              "    <tr>\n",
              "      <th>0</th>\n",
              "      <td>0</td>\n",
              "      <td>1</td>\n",
              "      <td>1</td>\n",
              "      <td>0</td>\n",
              "      <td>0</td>\n",
              "      <td>7432.0</td>\n",
              "      <td>25.0</td>\n",
              "      <td>6.000000</td>\n",
              "      <td>20.0</td>\n",
              "      <td>-0.173913</td>\n",
              "      <td>...</td>\n",
              "      <td>0</td>\n",
              "      <td>0</td>\n",
              "      <td>0</td>\n",
              "      <td>0</td>\n",
              "      <td>0</td>\n",
              "      <td>0</td>\n",
              "      <td>0</td>\n",
              "      <td>0</td>\n",
              "      <td>0</td>\n",
              "      <td>0</td>\n",
              "    </tr>\n",
              "    <tr>\n",
              "      <th>1</th>\n",
              "      <td>0</td>\n",
              "      <td>1</td>\n",
              "      <td>1</td>\n",
              "      <td>1</td>\n",
              "      <td>0</td>\n",
              "      <td>2720.0</td>\n",
              "      <td>25.0</td>\n",
              "      <td>6.000000</td>\n",
              "      <td>20.0</td>\n",
              "      <td>-0.173913</td>\n",
              "      <td>...</td>\n",
              "      <td>0</td>\n",
              "      <td>0</td>\n",
              "      <td>0</td>\n",
              "      <td>0</td>\n",
              "      <td>0</td>\n",
              "      <td>0</td>\n",
              "      <td>0</td>\n",
              "      <td>0</td>\n",
              "      <td>0</td>\n",
              "      <td>0</td>\n",
              "    </tr>\n",
              "    <tr>\n",
              "      <th>2</th>\n",
              "      <td>0</td>\n",
              "      <td>1</td>\n",
              "      <td>1</td>\n",
              "      <td>2</td>\n",
              "      <td>0</td>\n",
              "      <td>5376.0</td>\n",
              "      <td>25.0</td>\n",
              "      <td>6.000000</td>\n",
              "      <td>20.0</td>\n",
              "      <td>-0.173913</td>\n",
              "      <td>...</td>\n",
              "      <td>0</td>\n",
              "      <td>0</td>\n",
              "      <td>0</td>\n",
              "      <td>0</td>\n",
              "      <td>0</td>\n",
              "      <td>0</td>\n",
              "      <td>0</td>\n",
              "      <td>0</td>\n",
              "      <td>0</td>\n",
              "      <td>0</td>\n",
              "    </tr>\n",
              "    <tr>\n",
              "      <th>3</th>\n",
              "      <td>0</td>\n",
              "      <td>1</td>\n",
              "      <td>1</td>\n",
              "      <td>3</td>\n",
              "      <td>0</td>\n",
              "      <td>23685.0</td>\n",
              "      <td>25.0</td>\n",
              "      <td>6.000000</td>\n",
              "      <td>20.0</td>\n",
              "      <td>-0.173913</td>\n",
              "      <td>...</td>\n",
              "      <td>0</td>\n",
              "      <td>0</td>\n",
              "      <td>0</td>\n",
              "      <td>0</td>\n",
              "      <td>0</td>\n",
              "      <td>0</td>\n",
              "      <td>0</td>\n",
              "      <td>0</td>\n",
              "      <td>0</td>\n",
              "      <td>0</td>\n",
              "    </tr>\n",
              "    <tr>\n",
              "      <th>4</th>\n",
              "      <td>0</td>\n",
              "      <td>1</td>\n",
              "      <td>1</td>\n",
              "      <td>4</td>\n",
              "      <td>0</td>\n",
              "      <td>116607.0</td>\n",
              "      <td>25.0</td>\n",
              "      <td>6.000000</td>\n",
              "      <td>20.0</td>\n",
              "      <td>-0.173913</td>\n",
              "      <td>...</td>\n",
              "      <td>0</td>\n",
              "      <td>0</td>\n",
              "      <td>0</td>\n",
              "      <td>0</td>\n",
              "      <td>0</td>\n",
              "      <td>0</td>\n",
              "      <td>0</td>\n",
              "      <td>0</td>\n",
              "      <td>0</td>\n",
              "      <td>0</td>\n",
              "    </tr>\n",
              "    <tr>\n",
              "      <th>...</th>\n",
              "      <td>...</td>\n",
              "      <td>...</td>\n",
              "      <td>...</td>\n",
              "      <td>...</td>\n",
              "      <td>...</td>\n",
              "      <td>...</td>\n",
              "      <td>...</td>\n",
              "      <td>...</td>\n",
              "      <td>...</td>\n",
              "      <td>...</td>\n",
              "      <td>...</td>\n",
              "      <td>...</td>\n",
              "      <td>...</td>\n",
              "      <td>...</td>\n",
              "      <td>...</td>\n",
              "      <td>...</td>\n",
              "      <td>...</td>\n",
              "      <td>...</td>\n",
              "      <td>...</td>\n",
              "      <td>...</td>\n",
              "      <td>...</td>\n",
              "    </tr>\n",
              "    <tr>\n",
              "      <th>13346740</th>\n",
              "      <td>15</td>\n",
              "      <td>31</td>\n",
              "      <td>8</td>\n",
              "      <td>1444</td>\n",
              "      <td>0</td>\n",
              "      <td>19619.0</td>\n",
              "      <td>22.8</td>\n",
              "      <td>0.363636</td>\n",
              "      <td>17.8</td>\n",
              "      <td>-0.198697</td>\n",
              "      <td>...</td>\n",
              "      <td>0</td>\n",
              "      <td>0</td>\n",
              "      <td>0</td>\n",
              "      <td>0</td>\n",
              "      <td>0</td>\n",
              "      <td>0</td>\n",
              "      <td>0</td>\n",
              "      <td>0</td>\n",
              "      <td>0</td>\n",
              "      <td>0</td>\n",
              "    </tr>\n",
              "    <tr>\n",
              "      <th>13346741</th>\n",
              "      <td>15</td>\n",
              "      <td>31</td>\n",
              "      <td>8</td>\n",
              "      <td>1445</td>\n",
              "      <td>0</td>\n",
              "      <td>4298.0</td>\n",
              "      <td>22.8</td>\n",
              "      <td>0.363636</td>\n",
              "      <td>17.8</td>\n",
              "      <td>-0.198697</td>\n",
              "      <td>...</td>\n",
              "      <td>0</td>\n",
              "      <td>0</td>\n",
              "      <td>0</td>\n",
              "      <td>0</td>\n",
              "      <td>0</td>\n",
              "      <td>0</td>\n",
              "      <td>0</td>\n",
              "      <td>0</td>\n",
              "      <td>0</td>\n",
              "      <td>0</td>\n",
              "    </tr>\n",
              "    <tr>\n",
              "      <th>13346742</th>\n",
              "      <td>15</td>\n",
              "      <td>31</td>\n",
              "      <td>8</td>\n",
              "      <td>1446</td>\n",
              "      <td>0</td>\n",
              "      <td>11265.0</td>\n",
              "      <td>22.8</td>\n",
              "      <td>0.363636</td>\n",
              "      <td>17.8</td>\n",
              "      <td>-0.198697</td>\n",
              "      <td>...</td>\n",
              "      <td>0</td>\n",
              "      <td>0</td>\n",
              "      <td>0</td>\n",
              "      <td>0</td>\n",
              "      <td>0</td>\n",
              "      <td>0</td>\n",
              "      <td>0</td>\n",
              "      <td>0</td>\n",
              "      <td>0</td>\n",
              "      <td>0</td>\n",
              "    </tr>\n",
              "    <tr>\n",
              "      <th>13346743</th>\n",
              "      <td>15</td>\n",
              "      <td>31</td>\n",
              "      <td>8</td>\n",
              "      <td>1447</td>\n",
              "      <td>0</td>\n",
              "      <td>29775.0</td>\n",
              "      <td>22.8</td>\n",
              "      <td>0.363636</td>\n",
              "      <td>17.8</td>\n",
              "      <td>-0.198697</td>\n",
              "      <td>...</td>\n",
              "      <td>0</td>\n",
              "      <td>0</td>\n",
              "      <td>0</td>\n",
              "      <td>0</td>\n",
              "      <td>0</td>\n",
              "      <td>0</td>\n",
              "      <td>0</td>\n",
              "      <td>0</td>\n",
              "      <td>0</td>\n",
              "      <td>0</td>\n",
              "    </tr>\n",
              "    <tr>\n",
              "      <th>13346744</th>\n",
              "      <td>15</td>\n",
              "      <td>31</td>\n",
              "      <td>8</td>\n",
              "      <td>1448</td>\n",
              "      <td>0</td>\n",
              "      <td>92271.0</td>\n",
              "      <td>22.8</td>\n",
              "      <td>0.363636</td>\n",
              "      <td>17.8</td>\n",
              "      <td>-0.198697</td>\n",
              "      <td>...</td>\n",
              "      <td>1</td>\n",
              "      <td>0</td>\n",
              "      <td>0</td>\n",
              "      <td>0</td>\n",
              "      <td>0</td>\n",
              "      <td>0</td>\n",
              "      <td>0</td>\n",
              "      <td>0</td>\n",
              "      <td>0</td>\n",
              "      <td>0</td>\n",
              "    </tr>\n",
              "  </tbody>\n",
              "</table>\n",
              "<p>13346745 rows × 31 columns</p>\n",
              "</div>\n",
              "      <button class=\"colab-df-convert\" onclick=\"convertToInteractive('df-0a08dd72-b21a-420e-8b7d-9a03f0000b56')\"\n",
              "              title=\"Convert this dataframe to an interactive table.\"\n",
              "              style=\"display:none;\">\n",
              "        \n",
              "  <svg xmlns=\"http://www.w3.org/2000/svg\" height=\"24px\"viewBox=\"0 0 24 24\"\n",
              "       width=\"24px\">\n",
              "    <path d=\"M0 0h24v24H0V0z\" fill=\"none\"/>\n",
              "    <path d=\"M18.56 5.44l.94 2.06.94-2.06 2.06-.94-2.06-.94-.94-2.06-.94 2.06-2.06.94zm-11 1L8.5 8.5l.94-2.06 2.06-.94-2.06-.94L8.5 2.5l-.94 2.06-2.06.94zm10 10l.94 2.06.94-2.06 2.06-.94-2.06-.94-.94-2.06-.94 2.06-2.06.94z\"/><path d=\"M17.41 7.96l-1.37-1.37c-.4-.4-.92-.59-1.43-.59-.52 0-1.04.2-1.43.59L10.3 9.45l-7.72 7.72c-.78.78-.78 2.05 0 2.83L4 21.41c.39.39.9.59 1.41.59.51 0 1.02-.2 1.41-.59l7.78-7.78 2.81-2.81c.8-.78.8-2.07 0-2.86zM5.41 20L4 18.59l7.72-7.72 1.47 1.35L5.41 20z\"/>\n",
              "  </svg>\n",
              "      </button>\n",
              "      \n",
              "  <style>\n",
              "    .colab-df-container {\n",
              "      display:flex;\n",
              "      flex-wrap:wrap;\n",
              "      gap: 12px;\n",
              "    }\n",
              "\n",
              "    .colab-df-convert {\n",
              "      background-color: #E8F0FE;\n",
              "      border: none;\n",
              "      border-radius: 50%;\n",
              "      cursor: pointer;\n",
              "      display: none;\n",
              "      fill: #1967D2;\n",
              "      height: 32px;\n",
              "      padding: 0 0 0 0;\n",
              "      width: 32px;\n",
              "    }\n",
              "\n",
              "    .colab-df-convert:hover {\n",
              "      background-color: #E2EBFA;\n",
              "      box-shadow: 0px 1px 2px rgba(60, 64, 67, 0.3), 0px 1px 3px 1px rgba(60, 64, 67, 0.15);\n",
              "      fill: #174EA6;\n",
              "    }\n",
              "\n",
              "    [theme=dark] .colab-df-convert {\n",
              "      background-color: #3B4455;\n",
              "      fill: #D2E3FC;\n",
              "    }\n",
              "\n",
              "    [theme=dark] .colab-df-convert:hover {\n",
              "      background-color: #434B5C;\n",
              "      box-shadow: 0px 1px 3px 1px rgba(0, 0, 0, 0.15);\n",
              "      filter: drop-shadow(0px 1px 2px rgba(0, 0, 0, 0.3));\n",
              "      fill: #FFFFFF;\n",
              "    }\n",
              "  </style>\n",
              "\n",
              "      <script>\n",
              "        const buttonEl =\n",
              "          document.querySelector('#df-0a08dd72-b21a-420e-8b7d-9a03f0000b56 button.colab-df-convert');\n",
              "        buttonEl.style.display =\n",
              "          google.colab.kernel.accessAllowed ? 'block' : 'none';\n",
              "\n",
              "        async function convertToInteractive(key) {\n",
              "          const element = document.querySelector('#df-0a08dd72-b21a-420e-8b7d-9a03f0000b56');\n",
              "          const dataTable =\n",
              "            await google.colab.kernel.invokeFunction('convertToInteractive',\n",
              "                                                     [key], {});\n",
              "          if (!dataTable) return;\n",
              "\n",
              "          const docLinkHtml = 'Like what you see? Visit the ' +\n",
              "            '<a target=\"_blank\" href=https://colab.research.google.com/notebooks/data_table.ipynb>data table notebook</a>'\n",
              "            + ' to learn more about interactive tables.';\n",
              "          element.innerHTML = '';\n",
              "          dataTable['output_type'] = 'display_data';\n",
              "          await google.colab.output.renderOutput(dataTable, element);\n",
              "          const docLink = document.createElement('div');\n",
              "          docLink.innerHTML = docLinkHtml;\n",
              "          element.appendChild(docLink);\n",
              "        }\n",
              "      </script>\n",
              "    </div>\n",
              "  </div>\n",
              "  "
            ]
          },
          "metadata": {},
          "execution_count": 6
        }
      ],
      "source": [
        "train_daily_x"
      ]
    },
    {
      "cell_type": "code",
      "execution_count": null,
      "metadata": {
        "colab": {
          "base_uri": "https://localhost:8080/"
        },
        "id": "fS65wSuxCSy_",
        "outputId": "3888798b-ead7-4b07-cd9d-7166c6869540"
      },
      "outputs": [
        {
          "output_type": "execute_result",
          "data": {
            "text/plain": [
              "meter_reading_log1p    4.082807\n",
              "dtype: float64"
            ]
          },
          "metadata": {},
          "execution_count": 6
        }
      ],
      "source": [
        "train_daily_y.mean()"
      ]
    },
    {
      "cell_type": "code",
      "source": [
        "# Print the new scaled dataset\n",
        "train_x_scaled"
      ],
      "metadata": {
        "colab": {
          "base_uri": "https://localhost:8080/",
          "height": 505
        },
        "id": "oc_O-rL5t_oq",
        "outputId": "a1aae7c2-89d4-4ed6-988f-2eead5aa4aa3"
      },
      "execution_count": 7,
      "outputs": [
        {
          "output_type": "execute_result",
          "data": {
            "text/plain": [
              "          site_id  day  month  building_id  meter  square_feet  \\\n",
              "0               0    1      1            0      0    -0.855349   \n",
              "1               0    1      1            1      0    -0.895519   \n",
              "2               0    1      1            2      0    -0.872876   \n",
              "3               0    1      1            3      0    -0.716791   \n",
              "4               0    1      1            4      0     0.075371   \n",
              "...           ...  ...    ...          ...    ...          ...   \n",
              "13346740       15   31      8         1444      0    -0.751454   \n",
              "13346741       15   31      8         1445      0    -0.882066   \n",
              "13346742       15   31      8         1446      0    -0.822672   \n",
              "13346743       15   31      8         1447      0    -0.664874   \n",
              "13346744       15   31      8         1448      0    -0.132094   \n",
              "\n",
              "          air_temperature  cloud_coverage  dew_temperature  precip_depth_1_hr  \\\n",
              "0                0.729145        1.395256         1.143738          -0.180916   \n",
              "1                0.729145        1.395256         1.143738          -0.180916   \n",
              "2                0.729145        1.395256         1.143738          -0.180916   \n",
              "3                0.729145        1.395256         1.143738          -0.180916   \n",
              "4                0.729145        1.395256         1.143738          -0.180916   \n",
              "...                   ...             ...              ...                ...   \n",
              "13346740         0.534507       -0.796664         0.935660          -0.184137   \n",
              "13346741         0.534507       -0.796664         0.935660          -0.184137   \n",
              "13346742         0.534507       -0.796664         0.935660          -0.184137   \n",
              "13346743         0.534507       -0.796664         0.935660          -0.184137   \n",
              "13346744         0.534507       -0.796664         0.935660          -0.184137   \n",
              "\n",
              "          ...  primary_use_Office  primary_use_Other  primary_use_Parking  \\\n",
              "0         ...                   0                  0                    0   \n",
              "1         ...                   0                  0                    0   \n",
              "2         ...                   0                  0                    0   \n",
              "3         ...                   0                  0                    0   \n",
              "4         ...                   0                  0                    0   \n",
              "...       ...                 ...                ...                  ...   \n",
              "13346740  ...                   0                  0                    0   \n",
              "13346741  ...                   0                  0                    0   \n",
              "13346742  ...                   0                  0                    0   \n",
              "13346743  ...                   0                  0                    0   \n",
              "13346744  ...                   1                  0                    0   \n",
              "\n",
              "          primary_use_Public services  primary_use_Religious worship  \\\n",
              "0                                   0                              0   \n",
              "1                                   0                              0   \n",
              "2                                   0                              0   \n",
              "3                                   0                              0   \n",
              "4                                   0                              0   \n",
              "...                               ...                            ...   \n",
              "13346740                            0                              0   \n",
              "13346741                            0                              0   \n",
              "13346742                            0                              0   \n",
              "13346743                            0                              0   \n",
              "13346744                            0                              0   \n",
              "\n",
              "          primary_use_Retail  primary_use_Services  \\\n",
              "0                          0                     0   \n",
              "1                          0                     0   \n",
              "2                          0                     0   \n",
              "3                          0                     0   \n",
              "4                          0                     0   \n",
              "...                      ...                   ...   \n",
              "13346740                   0                     0   \n",
              "13346741                   0                     0   \n",
              "13346742                   0                     0   \n",
              "13346743                   0                     0   \n",
              "13346744                   0                     0   \n",
              "\n",
              "          primary_use_Technology/science  primary_use_Utility  \\\n",
              "0                                      0                    0   \n",
              "1                                      0                    0   \n",
              "2                                      0                    0   \n",
              "3                                      0                    0   \n",
              "4                                      0                    0   \n",
              "...                                  ...                  ...   \n",
              "13346740                               0                    0   \n",
              "13346741                               0                    0   \n",
              "13346742                               0                    0   \n",
              "13346743                               0                    0   \n",
              "13346744                               0                    0   \n",
              "\n",
              "          primary_use_Warehouse/storage  \n",
              "0                                     0  \n",
              "1                                     0  \n",
              "2                                     0  \n",
              "3                                     0  \n",
              "4                                     0  \n",
              "...                                 ...  \n",
              "13346740                              0  \n",
              "13346741                              0  \n",
              "13346742                              0  \n",
              "13346743                              0  \n",
              "13346744                              0  \n",
              "\n",
              "[13346745 rows x 31 columns]"
            ],
            "text/html": [
              "\n",
              "  <div id=\"df-8f3bc275-2284-4c65-b96d-04c96356746b\">\n",
              "    <div class=\"colab-df-container\">\n",
              "      <div>\n",
              "<style scoped>\n",
              "    .dataframe tbody tr th:only-of-type {\n",
              "        vertical-align: middle;\n",
              "    }\n",
              "\n",
              "    .dataframe tbody tr th {\n",
              "        vertical-align: top;\n",
              "    }\n",
              "\n",
              "    .dataframe thead th {\n",
              "        text-align: right;\n",
              "    }\n",
              "</style>\n",
              "<table border=\"1\" class=\"dataframe\">\n",
              "  <thead>\n",
              "    <tr style=\"text-align: right;\">\n",
              "      <th></th>\n",
              "      <th>site_id</th>\n",
              "      <th>day</th>\n",
              "      <th>month</th>\n",
              "      <th>building_id</th>\n",
              "      <th>meter</th>\n",
              "      <th>square_feet</th>\n",
              "      <th>air_temperature</th>\n",
              "      <th>cloud_coverage</th>\n",
              "      <th>dew_temperature</th>\n",
              "      <th>precip_depth_1_hr</th>\n",
              "      <th>...</th>\n",
              "      <th>primary_use_Office</th>\n",
              "      <th>primary_use_Other</th>\n",
              "      <th>primary_use_Parking</th>\n",
              "      <th>primary_use_Public services</th>\n",
              "      <th>primary_use_Religious worship</th>\n",
              "      <th>primary_use_Retail</th>\n",
              "      <th>primary_use_Services</th>\n",
              "      <th>primary_use_Technology/science</th>\n",
              "      <th>primary_use_Utility</th>\n",
              "      <th>primary_use_Warehouse/storage</th>\n",
              "    </tr>\n",
              "  </thead>\n",
              "  <tbody>\n",
              "    <tr>\n",
              "      <th>0</th>\n",
              "      <td>0</td>\n",
              "      <td>1</td>\n",
              "      <td>1</td>\n",
              "      <td>0</td>\n",
              "      <td>0</td>\n",
              "      <td>-0.855349</td>\n",
              "      <td>0.729145</td>\n",
              "      <td>1.395256</td>\n",
              "      <td>1.143738</td>\n",
              "      <td>-0.180916</td>\n",
              "      <td>...</td>\n",
              "      <td>0</td>\n",
              "      <td>0</td>\n",
              "      <td>0</td>\n",
              "      <td>0</td>\n",
              "      <td>0</td>\n",
              "      <td>0</td>\n",
              "      <td>0</td>\n",
              "      <td>0</td>\n",
              "      <td>0</td>\n",
              "      <td>0</td>\n",
              "    </tr>\n",
              "    <tr>\n",
              "      <th>1</th>\n",
              "      <td>0</td>\n",
              "      <td>1</td>\n",
              "      <td>1</td>\n",
              "      <td>1</td>\n",
              "      <td>0</td>\n",
              "      <td>-0.895519</td>\n",
              "      <td>0.729145</td>\n",
              "      <td>1.395256</td>\n",
              "      <td>1.143738</td>\n",
              "      <td>-0.180916</td>\n",
              "      <td>...</td>\n",
              "      <td>0</td>\n",
              "      <td>0</td>\n",
              "      <td>0</td>\n",
              "      <td>0</td>\n",
              "      <td>0</td>\n",
              "      <td>0</td>\n",
              "      <td>0</td>\n",
              "      <td>0</td>\n",
              "      <td>0</td>\n",
              "      <td>0</td>\n",
              "    </tr>\n",
              "    <tr>\n",
              "      <th>2</th>\n",
              "      <td>0</td>\n",
              "      <td>1</td>\n",
              "      <td>1</td>\n",
              "      <td>2</td>\n",
              "      <td>0</td>\n",
              "      <td>-0.872876</td>\n",
              "      <td>0.729145</td>\n",
              "      <td>1.395256</td>\n",
              "      <td>1.143738</td>\n",
              "      <td>-0.180916</td>\n",
              "      <td>...</td>\n",
              "      <td>0</td>\n",
              "      <td>0</td>\n",
              "      <td>0</td>\n",
              "      <td>0</td>\n",
              "      <td>0</td>\n",
              "      <td>0</td>\n",
              "      <td>0</td>\n",
              "      <td>0</td>\n",
              "      <td>0</td>\n",
              "      <td>0</td>\n",
              "    </tr>\n",
              "    <tr>\n",
              "      <th>3</th>\n",
              "      <td>0</td>\n",
              "      <td>1</td>\n",
              "      <td>1</td>\n",
              "      <td>3</td>\n",
              "      <td>0</td>\n",
              "      <td>-0.716791</td>\n",
              "      <td>0.729145</td>\n",
              "      <td>1.395256</td>\n",
              "      <td>1.143738</td>\n",
              "      <td>-0.180916</td>\n",
              "      <td>...</td>\n",
              "      <td>0</td>\n",
              "      <td>0</td>\n",
              "      <td>0</td>\n",
              "      <td>0</td>\n",
              "      <td>0</td>\n",
              "      <td>0</td>\n",
              "      <td>0</td>\n",
              "      <td>0</td>\n",
              "      <td>0</td>\n",
              "      <td>0</td>\n",
              "    </tr>\n",
              "    <tr>\n",
              "      <th>4</th>\n",
              "      <td>0</td>\n",
              "      <td>1</td>\n",
              "      <td>1</td>\n",
              "      <td>4</td>\n",
              "      <td>0</td>\n",
              "      <td>0.075371</td>\n",
              "      <td>0.729145</td>\n",
              "      <td>1.395256</td>\n",
              "      <td>1.143738</td>\n",
              "      <td>-0.180916</td>\n",
              "      <td>...</td>\n",
              "      <td>0</td>\n",
              "      <td>0</td>\n",
              "      <td>0</td>\n",
              "      <td>0</td>\n",
              "      <td>0</td>\n",
              "      <td>0</td>\n",
              "      <td>0</td>\n",
              "      <td>0</td>\n",
              "      <td>0</td>\n",
              "      <td>0</td>\n",
              "    </tr>\n",
              "    <tr>\n",
              "      <th>...</th>\n",
              "      <td>...</td>\n",
              "      <td>...</td>\n",
              "      <td>...</td>\n",
              "      <td>...</td>\n",
              "      <td>...</td>\n",
              "      <td>...</td>\n",
              "      <td>...</td>\n",
              "      <td>...</td>\n",
              "      <td>...</td>\n",
              "      <td>...</td>\n",
              "      <td>...</td>\n",
              "      <td>...</td>\n",
              "      <td>...</td>\n",
              "      <td>...</td>\n",
              "      <td>...</td>\n",
              "      <td>...</td>\n",
              "      <td>...</td>\n",
              "      <td>...</td>\n",
              "      <td>...</td>\n",
              "      <td>...</td>\n",
              "      <td>...</td>\n",
              "    </tr>\n",
              "    <tr>\n",
              "      <th>13346740</th>\n",
              "      <td>15</td>\n",
              "      <td>31</td>\n",
              "      <td>8</td>\n",
              "      <td>1444</td>\n",
              "      <td>0</td>\n",
              "      <td>-0.751454</td>\n",
              "      <td>0.534507</td>\n",
              "      <td>-0.796664</td>\n",
              "      <td>0.935660</td>\n",
              "      <td>-0.184137</td>\n",
              "      <td>...</td>\n",
              "      <td>0</td>\n",
              "      <td>0</td>\n",
              "      <td>0</td>\n",
              "      <td>0</td>\n",
              "      <td>0</td>\n",
              "      <td>0</td>\n",
              "      <td>0</td>\n",
              "      <td>0</td>\n",
              "      <td>0</td>\n",
              "      <td>0</td>\n",
              "    </tr>\n",
              "    <tr>\n",
              "      <th>13346741</th>\n",
              "      <td>15</td>\n",
              "      <td>31</td>\n",
              "      <td>8</td>\n",
              "      <td>1445</td>\n",
              "      <td>0</td>\n",
              "      <td>-0.882066</td>\n",
              "      <td>0.534507</td>\n",
              "      <td>-0.796664</td>\n",
              "      <td>0.935660</td>\n",
              "      <td>-0.184137</td>\n",
              "      <td>...</td>\n",
              "      <td>0</td>\n",
              "      <td>0</td>\n",
              "      <td>0</td>\n",
              "      <td>0</td>\n",
              "      <td>0</td>\n",
              "      <td>0</td>\n",
              "      <td>0</td>\n",
              "      <td>0</td>\n",
              "      <td>0</td>\n",
              "      <td>0</td>\n",
              "    </tr>\n",
              "    <tr>\n",
              "      <th>13346742</th>\n",
              "      <td>15</td>\n",
              "      <td>31</td>\n",
              "      <td>8</td>\n",
              "      <td>1446</td>\n",
              "      <td>0</td>\n",
              "      <td>-0.822672</td>\n",
              "      <td>0.534507</td>\n",
              "      <td>-0.796664</td>\n",
              "      <td>0.935660</td>\n",
              "      <td>-0.184137</td>\n",
              "      <td>...</td>\n",
              "      <td>0</td>\n",
              "      <td>0</td>\n",
              "      <td>0</td>\n",
              "      <td>0</td>\n",
              "      <td>0</td>\n",
              "      <td>0</td>\n",
              "      <td>0</td>\n",
              "      <td>0</td>\n",
              "      <td>0</td>\n",
              "      <td>0</td>\n",
              "    </tr>\n",
              "    <tr>\n",
              "      <th>13346743</th>\n",
              "      <td>15</td>\n",
              "      <td>31</td>\n",
              "      <td>8</td>\n",
              "      <td>1447</td>\n",
              "      <td>0</td>\n",
              "      <td>-0.664874</td>\n",
              "      <td>0.534507</td>\n",
              "      <td>-0.796664</td>\n",
              "      <td>0.935660</td>\n",
              "      <td>-0.184137</td>\n",
              "      <td>...</td>\n",
              "      <td>0</td>\n",
              "      <td>0</td>\n",
              "      <td>0</td>\n",
              "      <td>0</td>\n",
              "      <td>0</td>\n",
              "      <td>0</td>\n",
              "      <td>0</td>\n",
              "      <td>0</td>\n",
              "      <td>0</td>\n",
              "      <td>0</td>\n",
              "    </tr>\n",
              "    <tr>\n",
              "      <th>13346744</th>\n",
              "      <td>15</td>\n",
              "      <td>31</td>\n",
              "      <td>8</td>\n",
              "      <td>1448</td>\n",
              "      <td>0</td>\n",
              "      <td>-0.132094</td>\n",
              "      <td>0.534507</td>\n",
              "      <td>-0.796664</td>\n",
              "      <td>0.935660</td>\n",
              "      <td>-0.184137</td>\n",
              "      <td>...</td>\n",
              "      <td>1</td>\n",
              "      <td>0</td>\n",
              "      <td>0</td>\n",
              "      <td>0</td>\n",
              "      <td>0</td>\n",
              "      <td>0</td>\n",
              "      <td>0</td>\n",
              "      <td>0</td>\n",
              "      <td>0</td>\n",
              "      <td>0</td>\n",
              "    </tr>\n",
              "  </tbody>\n",
              "</table>\n",
              "<p>13346745 rows × 31 columns</p>\n",
              "</div>\n",
              "      <button class=\"colab-df-convert\" onclick=\"convertToInteractive('df-8f3bc275-2284-4c65-b96d-04c96356746b')\"\n",
              "              title=\"Convert this dataframe to an interactive table.\"\n",
              "              style=\"display:none;\">\n",
              "        \n",
              "  <svg xmlns=\"http://www.w3.org/2000/svg\" height=\"24px\"viewBox=\"0 0 24 24\"\n",
              "       width=\"24px\">\n",
              "    <path d=\"M0 0h24v24H0V0z\" fill=\"none\"/>\n",
              "    <path d=\"M18.56 5.44l.94 2.06.94-2.06 2.06-.94-2.06-.94-.94-2.06-.94 2.06-2.06.94zm-11 1L8.5 8.5l.94-2.06 2.06-.94-2.06-.94L8.5 2.5l-.94 2.06-2.06.94zm10 10l.94 2.06.94-2.06 2.06-.94-2.06-.94-.94-2.06-.94 2.06-2.06.94z\"/><path d=\"M17.41 7.96l-1.37-1.37c-.4-.4-.92-.59-1.43-.59-.52 0-1.04.2-1.43.59L10.3 9.45l-7.72 7.72c-.78.78-.78 2.05 0 2.83L4 21.41c.39.39.9.59 1.41.59.51 0 1.02-.2 1.41-.59l7.78-7.78 2.81-2.81c.8-.78.8-2.07 0-2.86zM5.41 20L4 18.59l7.72-7.72 1.47 1.35L5.41 20z\"/>\n",
              "  </svg>\n",
              "      </button>\n",
              "      \n",
              "  <style>\n",
              "    .colab-df-container {\n",
              "      display:flex;\n",
              "      flex-wrap:wrap;\n",
              "      gap: 12px;\n",
              "    }\n",
              "\n",
              "    .colab-df-convert {\n",
              "      background-color: #E8F0FE;\n",
              "      border: none;\n",
              "      border-radius: 50%;\n",
              "      cursor: pointer;\n",
              "      display: none;\n",
              "      fill: #1967D2;\n",
              "      height: 32px;\n",
              "      padding: 0 0 0 0;\n",
              "      width: 32px;\n",
              "    }\n",
              "\n",
              "    .colab-df-convert:hover {\n",
              "      background-color: #E2EBFA;\n",
              "      box-shadow: 0px 1px 2px rgba(60, 64, 67, 0.3), 0px 1px 3px 1px rgba(60, 64, 67, 0.15);\n",
              "      fill: #174EA6;\n",
              "    }\n",
              "\n",
              "    [theme=dark] .colab-df-convert {\n",
              "      background-color: #3B4455;\n",
              "      fill: #D2E3FC;\n",
              "    }\n",
              "\n",
              "    [theme=dark] .colab-df-convert:hover {\n",
              "      background-color: #434B5C;\n",
              "      box-shadow: 0px 1px 3px 1px rgba(0, 0, 0, 0.15);\n",
              "      filter: drop-shadow(0px 1px 2px rgba(0, 0, 0, 0.3));\n",
              "      fill: #FFFFFF;\n",
              "    }\n",
              "  </style>\n",
              "\n",
              "      <script>\n",
              "        const buttonEl =\n",
              "          document.querySelector('#df-8f3bc275-2284-4c65-b96d-04c96356746b button.colab-df-convert');\n",
              "        buttonEl.style.display =\n",
              "          google.colab.kernel.accessAllowed ? 'block' : 'none';\n",
              "\n",
              "        async function convertToInteractive(key) {\n",
              "          const element = document.querySelector('#df-8f3bc275-2284-4c65-b96d-04c96356746b');\n",
              "          const dataTable =\n",
              "            await google.colab.kernel.invokeFunction('convertToInteractive',\n",
              "                                                     [key], {});\n",
              "          if (!dataTable) return;\n",
              "\n",
              "          const docLinkHtml = 'Like what you see? Visit the ' +\n",
              "            '<a target=\"_blank\" href=https://colab.research.google.com/notebooks/data_table.ipynb>data table notebook</a>'\n",
              "            + ' to learn more about interactive tables.';\n",
              "          element.innerHTML = '';\n",
              "          dataTable['output_type'] = 'display_data';\n",
              "          await google.colab.output.renderOutput(dataTable, element);\n",
              "          const docLink = document.createElement('div');\n",
              "          docLink.innerHTML = docLinkHtml;\n",
              "          element.appendChild(docLink);\n",
              "        }\n",
              "      </script>\n",
              "    </div>\n",
              "  </div>\n",
              "  "
            ]
          },
          "metadata": {},
          "execution_count": 7
        }
      ]
    },
    {
      "cell_type": "code",
      "source": [
        "test_x_scaled"
      ],
      "metadata": {
        "colab": {
          "base_uri": "https://localhost:8080/",
          "height": 505
        },
        "id": "Vlf9e41i3dn0",
        "outputId": "d01c9877-c8fc-4f17-d462-cd8c1e699950"
      },
      "execution_count": null,
      "outputs": [
        {
          "output_type": "execute_result",
          "data": {
            "text/plain": [
              "         site_id  day  month  building_id  meter  square_feet  \\\n",
              "0              0    1      9            0      0    -0.855349   \n",
              "1              0    1      9            1      0    -0.895519   \n",
              "2              0    1      9            2      0    -0.872876   \n",
              "3              0    1      9            3      0    -0.716791   \n",
              "4              0    1      9            4      0     0.075371   \n",
              "...          ...  ...    ...          ...    ...          ...   \n",
              "6851784       15   31     12         1444      0    -0.751454   \n",
              "6851785       15   31     12         1445      0    -0.882066   \n",
              "6851786       15   31     12         1446      0    -0.822672   \n",
              "6851787       15   31     12         1447      0    -0.664874   \n",
              "6851788       15   31     12         1448      0    -0.132094   \n",
              "\n",
              "         air_temperature  cloud_coverage  dew_temperature  precip_depth_1_hr  \\\n",
              "0               0.676061        2.173034         1.455856          -0.288267   \n",
              "1               0.676061        2.173034         1.455856          -0.288267   \n",
              "2               0.676061        2.173034         1.455856          -0.288267   \n",
              "3               0.676061        2.173034         1.455856          -0.288267   \n",
              "4               0.676061        2.173034         1.455856          -0.288267   \n",
              "...                  ...             ...              ...                ...   \n",
              "6851784        -1.332247       -0.160300        -1.277535          -0.288267   \n",
              "6851785        -1.332247       -0.160300        -1.277535          -0.288267   \n",
              "6851786        -1.332247       -0.160300        -1.277535          -0.288267   \n",
              "6851787        -1.332247       -0.160300        -1.277535          -0.288267   \n",
              "6851788        -1.332247       -0.160300        -1.277535          -0.288267   \n",
              "\n",
              "         ...  primary_use_Office  primary_use_Other  primary_use_Parking  \\\n",
              "0        ...                   0                  0                    0   \n",
              "1        ...                   0                  0                    0   \n",
              "2        ...                   0                  0                    0   \n",
              "3        ...                   0                  0                    0   \n",
              "4        ...                   0                  0                    0   \n",
              "...      ...                 ...                ...                  ...   \n",
              "6851784  ...                   0                  0                    0   \n",
              "6851785  ...                   0                  0                    0   \n",
              "6851786  ...                   0                  0                    0   \n",
              "6851787  ...                   0                  0                    0   \n",
              "6851788  ...                   1                  0                    0   \n",
              "\n",
              "         primary_use_Public services  primary_use_Religious worship  \\\n",
              "0                                  0                              0   \n",
              "1                                  0                              0   \n",
              "2                                  0                              0   \n",
              "3                                  0                              0   \n",
              "4                                  0                              0   \n",
              "...                              ...                            ...   \n",
              "6851784                            0                              0   \n",
              "6851785                            0                              0   \n",
              "6851786                            0                              0   \n",
              "6851787                            0                              0   \n",
              "6851788                            0                              0   \n",
              "\n",
              "         primary_use_Retail  primary_use_Services  \\\n",
              "0                         0                     0   \n",
              "1                         0                     0   \n",
              "2                         0                     0   \n",
              "3                         0                     0   \n",
              "4                         0                     0   \n",
              "...                     ...                   ...   \n",
              "6851784                   0                     0   \n",
              "6851785                   0                     0   \n",
              "6851786                   0                     0   \n",
              "6851787                   0                     0   \n",
              "6851788                   0                     0   \n",
              "\n",
              "         primary_use_Technology/science  primary_use_Utility  \\\n",
              "0                                     0                    0   \n",
              "1                                     0                    0   \n",
              "2                                     0                    0   \n",
              "3                                     0                    0   \n",
              "4                                     0                    0   \n",
              "...                                 ...                  ...   \n",
              "6851784                               0                    0   \n",
              "6851785                               0                    0   \n",
              "6851786                               0                    0   \n",
              "6851787                               0                    0   \n",
              "6851788                               0                    0   \n",
              "\n",
              "         primary_use_Warehouse/storage  \n",
              "0                                    0  \n",
              "1                                    0  \n",
              "2                                    0  \n",
              "3                                    0  \n",
              "4                                    0  \n",
              "...                                ...  \n",
              "6851784                              0  \n",
              "6851785                              0  \n",
              "6851786                              0  \n",
              "6851787                              0  \n",
              "6851788                              0  \n",
              "\n",
              "[6851789 rows x 31 columns]"
            ],
            "text/html": [
              "\n",
              "  <div id=\"df-bebf8c6c-e629-4fd5-a2b0-c7d7ef38a4e3\">\n",
              "    <div class=\"colab-df-container\">\n",
              "      <div>\n",
              "<style scoped>\n",
              "    .dataframe tbody tr th:only-of-type {\n",
              "        vertical-align: middle;\n",
              "    }\n",
              "\n",
              "    .dataframe tbody tr th {\n",
              "        vertical-align: top;\n",
              "    }\n",
              "\n",
              "    .dataframe thead th {\n",
              "        text-align: right;\n",
              "    }\n",
              "</style>\n",
              "<table border=\"1\" class=\"dataframe\">\n",
              "  <thead>\n",
              "    <tr style=\"text-align: right;\">\n",
              "      <th></th>\n",
              "      <th>site_id</th>\n",
              "      <th>day</th>\n",
              "      <th>month</th>\n",
              "      <th>building_id</th>\n",
              "      <th>meter</th>\n",
              "      <th>square_feet</th>\n",
              "      <th>air_temperature</th>\n",
              "      <th>cloud_coverage</th>\n",
              "      <th>dew_temperature</th>\n",
              "      <th>precip_depth_1_hr</th>\n",
              "      <th>...</th>\n",
              "      <th>primary_use_Office</th>\n",
              "      <th>primary_use_Other</th>\n",
              "      <th>primary_use_Parking</th>\n",
              "      <th>primary_use_Public services</th>\n",
              "      <th>primary_use_Religious worship</th>\n",
              "      <th>primary_use_Retail</th>\n",
              "      <th>primary_use_Services</th>\n",
              "      <th>primary_use_Technology/science</th>\n",
              "      <th>primary_use_Utility</th>\n",
              "      <th>primary_use_Warehouse/storage</th>\n",
              "    </tr>\n",
              "  </thead>\n",
              "  <tbody>\n",
              "    <tr>\n",
              "      <th>0</th>\n",
              "      <td>0</td>\n",
              "      <td>1</td>\n",
              "      <td>9</td>\n",
              "      <td>0</td>\n",
              "      <td>0</td>\n",
              "      <td>-0.855349</td>\n",
              "      <td>0.676061</td>\n",
              "      <td>2.173034</td>\n",
              "      <td>1.455856</td>\n",
              "      <td>-0.288267</td>\n",
              "      <td>...</td>\n",
              "      <td>0</td>\n",
              "      <td>0</td>\n",
              "      <td>0</td>\n",
              "      <td>0</td>\n",
              "      <td>0</td>\n",
              "      <td>0</td>\n",
              "      <td>0</td>\n",
              "      <td>0</td>\n",
              "      <td>0</td>\n",
              "      <td>0</td>\n",
              "    </tr>\n",
              "    <tr>\n",
              "      <th>1</th>\n",
              "      <td>0</td>\n",
              "      <td>1</td>\n",
              "      <td>9</td>\n",
              "      <td>1</td>\n",
              "      <td>0</td>\n",
              "      <td>-0.895519</td>\n",
              "      <td>0.676061</td>\n",
              "      <td>2.173034</td>\n",
              "      <td>1.455856</td>\n",
              "      <td>-0.288267</td>\n",
              "      <td>...</td>\n",
              "      <td>0</td>\n",
              "      <td>0</td>\n",
              "      <td>0</td>\n",
              "      <td>0</td>\n",
              "      <td>0</td>\n",
              "      <td>0</td>\n",
              "      <td>0</td>\n",
              "      <td>0</td>\n",
              "      <td>0</td>\n",
              "      <td>0</td>\n",
              "    </tr>\n",
              "    <tr>\n",
              "      <th>2</th>\n",
              "      <td>0</td>\n",
              "      <td>1</td>\n",
              "      <td>9</td>\n",
              "      <td>2</td>\n",
              "      <td>0</td>\n",
              "      <td>-0.872876</td>\n",
              "      <td>0.676061</td>\n",
              "      <td>2.173034</td>\n",
              "      <td>1.455856</td>\n",
              "      <td>-0.288267</td>\n",
              "      <td>...</td>\n",
              "      <td>0</td>\n",
              "      <td>0</td>\n",
              "      <td>0</td>\n",
              "      <td>0</td>\n",
              "      <td>0</td>\n",
              "      <td>0</td>\n",
              "      <td>0</td>\n",
              "      <td>0</td>\n",
              "      <td>0</td>\n",
              "      <td>0</td>\n",
              "    </tr>\n",
              "    <tr>\n",
              "      <th>3</th>\n",
              "      <td>0</td>\n",
              "      <td>1</td>\n",
              "      <td>9</td>\n",
              "      <td>3</td>\n",
              "      <td>0</td>\n",
              "      <td>-0.716791</td>\n",
              "      <td>0.676061</td>\n",
              "      <td>2.173034</td>\n",
              "      <td>1.455856</td>\n",
              "      <td>-0.288267</td>\n",
              "      <td>...</td>\n",
              "      <td>0</td>\n",
              "      <td>0</td>\n",
              "      <td>0</td>\n",
              "      <td>0</td>\n",
              "      <td>0</td>\n",
              "      <td>0</td>\n",
              "      <td>0</td>\n",
              "      <td>0</td>\n",
              "      <td>0</td>\n",
              "      <td>0</td>\n",
              "    </tr>\n",
              "    <tr>\n",
              "      <th>4</th>\n",
              "      <td>0</td>\n",
              "      <td>1</td>\n",
              "      <td>9</td>\n",
              "      <td>4</td>\n",
              "      <td>0</td>\n",
              "      <td>0.075371</td>\n",
              "      <td>0.676061</td>\n",
              "      <td>2.173034</td>\n",
              "      <td>1.455856</td>\n",
              "      <td>-0.288267</td>\n",
              "      <td>...</td>\n",
              "      <td>0</td>\n",
              "      <td>0</td>\n",
              "      <td>0</td>\n",
              "      <td>0</td>\n",
              "      <td>0</td>\n",
              "      <td>0</td>\n",
              "      <td>0</td>\n",
              "      <td>0</td>\n",
              "      <td>0</td>\n",
              "      <td>0</td>\n",
              "    </tr>\n",
              "    <tr>\n",
              "      <th>...</th>\n",
              "      <td>...</td>\n",
              "      <td>...</td>\n",
              "      <td>...</td>\n",
              "      <td>...</td>\n",
              "      <td>...</td>\n",
              "      <td>...</td>\n",
              "      <td>...</td>\n",
              "      <td>...</td>\n",
              "      <td>...</td>\n",
              "      <td>...</td>\n",
              "      <td>...</td>\n",
              "      <td>...</td>\n",
              "      <td>...</td>\n",
              "      <td>...</td>\n",
              "      <td>...</td>\n",
              "      <td>...</td>\n",
              "      <td>...</td>\n",
              "      <td>...</td>\n",
              "      <td>...</td>\n",
              "      <td>...</td>\n",
              "      <td>...</td>\n",
              "    </tr>\n",
              "    <tr>\n",
              "      <th>6851784</th>\n",
              "      <td>15</td>\n",
              "      <td>31</td>\n",
              "      <td>12</td>\n",
              "      <td>1444</td>\n",
              "      <td>0</td>\n",
              "      <td>-0.751454</td>\n",
              "      <td>-1.332247</td>\n",
              "      <td>-0.160300</td>\n",
              "      <td>-1.277535</td>\n",
              "      <td>-0.288267</td>\n",
              "      <td>...</td>\n",
              "      <td>0</td>\n",
              "      <td>0</td>\n",
              "      <td>0</td>\n",
              "      <td>0</td>\n",
              "      <td>0</td>\n",
              "      <td>0</td>\n",
              "      <td>0</td>\n",
              "      <td>0</td>\n",
              "      <td>0</td>\n",
              "      <td>0</td>\n",
              "    </tr>\n",
              "    <tr>\n",
              "      <th>6851785</th>\n",
              "      <td>15</td>\n",
              "      <td>31</td>\n",
              "      <td>12</td>\n",
              "      <td>1445</td>\n",
              "      <td>0</td>\n",
              "      <td>-0.882066</td>\n",
              "      <td>-1.332247</td>\n",
              "      <td>-0.160300</td>\n",
              "      <td>-1.277535</td>\n",
              "      <td>-0.288267</td>\n",
              "      <td>...</td>\n",
              "      <td>0</td>\n",
              "      <td>0</td>\n",
              "      <td>0</td>\n",
              "      <td>0</td>\n",
              "      <td>0</td>\n",
              "      <td>0</td>\n",
              "      <td>0</td>\n",
              "      <td>0</td>\n",
              "      <td>0</td>\n",
              "      <td>0</td>\n",
              "    </tr>\n",
              "    <tr>\n",
              "      <th>6851786</th>\n",
              "      <td>15</td>\n",
              "      <td>31</td>\n",
              "      <td>12</td>\n",
              "      <td>1446</td>\n",
              "      <td>0</td>\n",
              "      <td>-0.822672</td>\n",
              "      <td>-1.332247</td>\n",
              "      <td>-0.160300</td>\n",
              "      <td>-1.277535</td>\n",
              "      <td>-0.288267</td>\n",
              "      <td>...</td>\n",
              "      <td>0</td>\n",
              "      <td>0</td>\n",
              "      <td>0</td>\n",
              "      <td>0</td>\n",
              "      <td>0</td>\n",
              "      <td>0</td>\n",
              "      <td>0</td>\n",
              "      <td>0</td>\n",
              "      <td>0</td>\n",
              "      <td>0</td>\n",
              "    </tr>\n",
              "    <tr>\n",
              "      <th>6851787</th>\n",
              "      <td>15</td>\n",
              "      <td>31</td>\n",
              "      <td>12</td>\n",
              "      <td>1447</td>\n",
              "      <td>0</td>\n",
              "      <td>-0.664874</td>\n",
              "      <td>-1.332247</td>\n",
              "      <td>-0.160300</td>\n",
              "      <td>-1.277535</td>\n",
              "      <td>-0.288267</td>\n",
              "      <td>...</td>\n",
              "      <td>0</td>\n",
              "      <td>0</td>\n",
              "      <td>0</td>\n",
              "      <td>0</td>\n",
              "      <td>0</td>\n",
              "      <td>0</td>\n",
              "      <td>0</td>\n",
              "      <td>0</td>\n",
              "      <td>0</td>\n",
              "      <td>0</td>\n",
              "    </tr>\n",
              "    <tr>\n",
              "      <th>6851788</th>\n",
              "      <td>15</td>\n",
              "      <td>31</td>\n",
              "      <td>12</td>\n",
              "      <td>1448</td>\n",
              "      <td>0</td>\n",
              "      <td>-0.132094</td>\n",
              "      <td>-1.332247</td>\n",
              "      <td>-0.160300</td>\n",
              "      <td>-1.277535</td>\n",
              "      <td>-0.288267</td>\n",
              "      <td>...</td>\n",
              "      <td>1</td>\n",
              "      <td>0</td>\n",
              "      <td>0</td>\n",
              "      <td>0</td>\n",
              "      <td>0</td>\n",
              "      <td>0</td>\n",
              "      <td>0</td>\n",
              "      <td>0</td>\n",
              "      <td>0</td>\n",
              "      <td>0</td>\n",
              "    </tr>\n",
              "  </tbody>\n",
              "</table>\n",
              "<p>6851789 rows × 31 columns</p>\n",
              "</div>\n",
              "      <button class=\"colab-df-convert\" onclick=\"convertToInteractive('df-bebf8c6c-e629-4fd5-a2b0-c7d7ef38a4e3')\"\n",
              "              title=\"Convert this dataframe to an interactive table.\"\n",
              "              style=\"display:none;\">\n",
              "        \n",
              "  <svg xmlns=\"http://www.w3.org/2000/svg\" height=\"24px\"viewBox=\"0 0 24 24\"\n",
              "       width=\"24px\">\n",
              "    <path d=\"M0 0h24v24H0V0z\" fill=\"none\"/>\n",
              "    <path d=\"M18.56 5.44l.94 2.06.94-2.06 2.06-.94-2.06-.94-.94-2.06-.94 2.06-2.06.94zm-11 1L8.5 8.5l.94-2.06 2.06-.94-2.06-.94L8.5 2.5l-.94 2.06-2.06.94zm10 10l.94 2.06.94-2.06 2.06-.94-2.06-.94-.94-2.06-.94 2.06-2.06.94z\"/><path d=\"M17.41 7.96l-1.37-1.37c-.4-.4-.92-.59-1.43-.59-.52 0-1.04.2-1.43.59L10.3 9.45l-7.72 7.72c-.78.78-.78 2.05 0 2.83L4 21.41c.39.39.9.59 1.41.59.51 0 1.02-.2 1.41-.59l7.78-7.78 2.81-2.81c.8-.78.8-2.07 0-2.86zM5.41 20L4 18.59l7.72-7.72 1.47 1.35L5.41 20z\"/>\n",
              "  </svg>\n",
              "      </button>\n",
              "      \n",
              "  <style>\n",
              "    .colab-df-container {\n",
              "      display:flex;\n",
              "      flex-wrap:wrap;\n",
              "      gap: 12px;\n",
              "    }\n",
              "\n",
              "    .colab-df-convert {\n",
              "      background-color: #E8F0FE;\n",
              "      border: none;\n",
              "      border-radius: 50%;\n",
              "      cursor: pointer;\n",
              "      display: none;\n",
              "      fill: #1967D2;\n",
              "      height: 32px;\n",
              "      padding: 0 0 0 0;\n",
              "      width: 32px;\n",
              "    }\n",
              "\n",
              "    .colab-df-convert:hover {\n",
              "      background-color: #E2EBFA;\n",
              "      box-shadow: 0px 1px 2px rgba(60, 64, 67, 0.3), 0px 1px 3px 1px rgba(60, 64, 67, 0.15);\n",
              "      fill: #174EA6;\n",
              "    }\n",
              "\n",
              "    [theme=dark] .colab-df-convert {\n",
              "      background-color: #3B4455;\n",
              "      fill: #D2E3FC;\n",
              "    }\n",
              "\n",
              "    [theme=dark] .colab-df-convert:hover {\n",
              "      background-color: #434B5C;\n",
              "      box-shadow: 0px 1px 3px 1px rgba(0, 0, 0, 0.15);\n",
              "      filter: drop-shadow(0px 1px 2px rgba(0, 0, 0, 0.3));\n",
              "      fill: #FFFFFF;\n",
              "    }\n",
              "  </style>\n",
              "\n",
              "      <script>\n",
              "        const buttonEl =\n",
              "          document.querySelector('#df-bebf8c6c-e629-4fd5-a2b0-c7d7ef38a4e3 button.colab-df-convert');\n",
              "        buttonEl.style.display =\n",
              "          google.colab.kernel.accessAllowed ? 'block' : 'none';\n",
              "\n",
              "        async function convertToInteractive(key) {\n",
              "          const element = document.querySelector('#df-bebf8c6c-e629-4fd5-a2b0-c7d7ef38a4e3');\n",
              "          const dataTable =\n",
              "            await google.colab.kernel.invokeFunction('convertToInteractive',\n",
              "                                                     [key], {});\n",
              "          if (!dataTable) return;\n",
              "\n",
              "          const docLinkHtml = 'Like what you see? Visit the ' +\n",
              "            '<a target=\"_blank\" href=https://colab.research.google.com/notebooks/data_table.ipynb>data table notebook</a>'\n",
              "            + ' to learn more about interactive tables.';\n",
              "          element.innerHTML = '';\n",
              "          dataTable['output_type'] = 'display_data';\n",
              "          await google.colab.output.renderOutput(dataTable, element);\n",
              "          const docLink = document.createElement('div');\n",
              "          docLink.innerHTML = docLinkHtml;\n",
              "          element.appendChild(docLink);\n",
              "        }\n",
              "      </script>\n",
              "    </div>\n",
              "  </div>\n",
              "  "
            ]
          },
          "metadata": {},
          "execution_count": 12
        }
      ]
    },
    {
      "cell_type": "code",
      "source": [
        "test_daily_y"
      ],
      "metadata": {
        "colab": {
          "base_uri": "https://localhost:8080/",
          "height": 424
        },
        "id": "BgBT7Sttm2mj",
        "outputId": "6d2ff57c-3574-402d-f058-0c347fd5f854"
      },
      "execution_count": null,
      "outputs": [
        {
          "output_type": "execute_result",
          "data": {
            "text/plain": [
              "         meter_reading_log1p\n",
              "0                   4.331021\n",
              "1                   3.746486\n",
              "2                   1.818324\n",
              "3                   4.821378\n",
              "4                   6.138452\n",
              "...                      ...\n",
              "6851784             2.277267\n",
              "6851785             1.762159\n",
              "6851786             0.000000\n",
              "6851787             5.078761\n",
              "6851788             1.348073\n",
              "\n",
              "[6851789 rows x 1 columns]"
            ],
            "text/html": [
              "\n",
              "  <div id=\"df-6fe3d268-659c-432f-be85-dd051a714831\">\n",
              "    <div class=\"colab-df-container\">\n",
              "      <div>\n",
              "<style scoped>\n",
              "    .dataframe tbody tr th:only-of-type {\n",
              "        vertical-align: middle;\n",
              "    }\n",
              "\n",
              "    .dataframe tbody tr th {\n",
              "        vertical-align: top;\n",
              "    }\n",
              "\n",
              "    .dataframe thead th {\n",
              "        text-align: right;\n",
              "    }\n",
              "</style>\n",
              "<table border=\"1\" class=\"dataframe\">\n",
              "  <thead>\n",
              "    <tr style=\"text-align: right;\">\n",
              "      <th></th>\n",
              "      <th>meter_reading_log1p</th>\n",
              "    </tr>\n",
              "  </thead>\n",
              "  <tbody>\n",
              "    <tr>\n",
              "      <th>0</th>\n",
              "      <td>4.331021</td>\n",
              "    </tr>\n",
              "    <tr>\n",
              "      <th>1</th>\n",
              "      <td>3.746486</td>\n",
              "    </tr>\n",
              "    <tr>\n",
              "      <th>2</th>\n",
              "      <td>1.818324</td>\n",
              "    </tr>\n",
              "    <tr>\n",
              "      <th>3</th>\n",
              "      <td>4.821378</td>\n",
              "    </tr>\n",
              "    <tr>\n",
              "      <th>4</th>\n",
              "      <td>6.138452</td>\n",
              "    </tr>\n",
              "    <tr>\n",
              "      <th>...</th>\n",
              "      <td>...</td>\n",
              "    </tr>\n",
              "    <tr>\n",
              "      <th>6851784</th>\n",
              "      <td>2.277267</td>\n",
              "    </tr>\n",
              "    <tr>\n",
              "      <th>6851785</th>\n",
              "      <td>1.762159</td>\n",
              "    </tr>\n",
              "    <tr>\n",
              "      <th>6851786</th>\n",
              "      <td>0.000000</td>\n",
              "    </tr>\n",
              "    <tr>\n",
              "      <th>6851787</th>\n",
              "      <td>5.078761</td>\n",
              "    </tr>\n",
              "    <tr>\n",
              "      <th>6851788</th>\n",
              "      <td>1.348073</td>\n",
              "    </tr>\n",
              "  </tbody>\n",
              "</table>\n",
              "<p>6851789 rows × 1 columns</p>\n",
              "</div>\n",
              "      <button class=\"colab-df-convert\" onclick=\"convertToInteractive('df-6fe3d268-659c-432f-be85-dd051a714831')\"\n",
              "              title=\"Convert this dataframe to an interactive table.\"\n",
              "              style=\"display:none;\">\n",
              "        \n",
              "  <svg xmlns=\"http://www.w3.org/2000/svg\" height=\"24px\"viewBox=\"0 0 24 24\"\n",
              "       width=\"24px\">\n",
              "    <path d=\"M0 0h24v24H0V0z\" fill=\"none\"/>\n",
              "    <path d=\"M18.56 5.44l.94 2.06.94-2.06 2.06-.94-2.06-.94-.94-2.06-.94 2.06-2.06.94zm-11 1L8.5 8.5l.94-2.06 2.06-.94-2.06-.94L8.5 2.5l-.94 2.06-2.06.94zm10 10l.94 2.06.94-2.06 2.06-.94-2.06-.94-.94-2.06-.94 2.06-2.06.94z\"/><path d=\"M17.41 7.96l-1.37-1.37c-.4-.4-.92-.59-1.43-.59-.52 0-1.04.2-1.43.59L10.3 9.45l-7.72 7.72c-.78.78-.78 2.05 0 2.83L4 21.41c.39.39.9.59 1.41.59.51 0 1.02-.2 1.41-.59l7.78-7.78 2.81-2.81c.8-.78.8-2.07 0-2.86zM5.41 20L4 18.59l7.72-7.72 1.47 1.35L5.41 20z\"/>\n",
              "  </svg>\n",
              "      </button>\n",
              "      \n",
              "  <style>\n",
              "    .colab-df-container {\n",
              "      display:flex;\n",
              "      flex-wrap:wrap;\n",
              "      gap: 12px;\n",
              "    }\n",
              "\n",
              "    .colab-df-convert {\n",
              "      background-color: #E8F0FE;\n",
              "      border: none;\n",
              "      border-radius: 50%;\n",
              "      cursor: pointer;\n",
              "      display: none;\n",
              "      fill: #1967D2;\n",
              "      height: 32px;\n",
              "      padding: 0 0 0 0;\n",
              "      width: 32px;\n",
              "    }\n",
              "\n",
              "    .colab-df-convert:hover {\n",
              "      background-color: #E2EBFA;\n",
              "      box-shadow: 0px 1px 2px rgba(60, 64, 67, 0.3), 0px 1px 3px 1px rgba(60, 64, 67, 0.15);\n",
              "      fill: #174EA6;\n",
              "    }\n",
              "\n",
              "    [theme=dark] .colab-df-convert {\n",
              "      background-color: #3B4455;\n",
              "      fill: #D2E3FC;\n",
              "    }\n",
              "\n",
              "    [theme=dark] .colab-df-convert:hover {\n",
              "      background-color: #434B5C;\n",
              "      box-shadow: 0px 1px 3px 1px rgba(0, 0, 0, 0.15);\n",
              "      filter: drop-shadow(0px 1px 2px rgba(0, 0, 0, 0.3));\n",
              "      fill: #FFFFFF;\n",
              "    }\n",
              "  </style>\n",
              "\n",
              "      <script>\n",
              "        const buttonEl =\n",
              "          document.querySelector('#df-6fe3d268-659c-432f-be85-dd051a714831 button.colab-df-convert');\n",
              "        buttonEl.style.display =\n",
              "          google.colab.kernel.accessAllowed ? 'block' : 'none';\n",
              "\n",
              "        async function convertToInteractive(key) {\n",
              "          const element = document.querySelector('#df-6fe3d268-659c-432f-be85-dd051a714831');\n",
              "          const dataTable =\n",
              "            await google.colab.kernel.invokeFunction('convertToInteractive',\n",
              "                                                     [key], {});\n",
              "          if (!dataTable) return;\n",
              "\n",
              "          const docLinkHtml = 'Like what you see? Visit the ' +\n",
              "            '<a target=\"_blank\" href=https://colab.research.google.com/notebooks/data_table.ipynb>data table notebook</a>'\n",
              "            + ' to learn more about interactive tables.';\n",
              "          element.innerHTML = '';\n",
              "          dataTable['output_type'] = 'display_data';\n",
              "          await google.colab.output.renderOutput(dataTable, element);\n",
              "          const docLink = document.createElement('div');\n",
              "          docLink.innerHTML = docLinkHtml;\n",
              "          element.appendChild(docLink);\n",
              "        }\n",
              "      </script>\n",
              "    </div>\n",
              "  </div>\n",
              "  "
            ]
          },
          "metadata": {},
          "execution_count": 34
        }
      ]
    },
    {
      "cell_type": "markdown",
      "source": [
        "# Importing Libraries"
      ],
      "metadata": {
        "id": "SiWMp_1_-iEr"
      }
    },
    {
      "cell_type": "code",
      "execution_count": 19,
      "metadata": {
        "id": "ImasIt6Oc5_a"
      },
      "outputs": [],
      "source": [
        "from keras.models import Sequential, load_model\n",
        "from keras.layers import LSTM, Dense, Dropout, BatchNormalization\n",
        "from keras.optimizers import Adam, RMSprop\n",
        "from keras.losses import MeanSquaredError\n",
        "from keras.metrics import RootMeanSquaredError, MeanAbsoluteError, MeanSquaredLogarithmicError, MeanSquaredError\n",
        "from sklearn.metrics import mean_squared_error, mean_squared_log_error, r2_score, mean_squared_log_error, mean_absolute_error\n",
        "from keras.callbacks import ModelCheckpoint\n",
        "from keras import backend as K\n",
        "from keras import regularizers\n",
        "from sklearn.model_selection import train_test_split\n",
        "import tensorflow as tf\n",
        "import os\n",
        "import matplotlib.pyplot as plt"
      ]
    },
    {
      "cell_type": "code",
      "execution_count": null,
      "metadata": {
        "colab": {
          "base_uri": "https://localhost:8080/",
          "height": 505
        },
        "id": "YayL8tNRjftr",
        "outputId": "8256605c-a5a5-41f4-ce64-1ba8df2fd5fb"
      },
      "outputs": [
        {
          "data": {
            "text/html": [
              "\n",
              "  <div id=\"df-f5d630f7-c21e-4ee4-885b-21701a5ce557\">\n",
              "    <div class=\"colab-df-container\">\n",
              "      <div>\n",
              "<style scoped>\n",
              "    .dataframe tbody tr th:only-of-type {\n",
              "        vertical-align: middle;\n",
              "    }\n",
              "\n",
              "    .dataframe tbody tr th {\n",
              "        vertical-align: top;\n",
              "    }\n",
              "\n",
              "    .dataframe thead th {\n",
              "        text-align: right;\n",
              "    }\n",
              "</style>\n",
              "<table border=\"1\" class=\"dataframe\">\n",
              "  <thead>\n",
              "    <tr style=\"text-align: right;\">\n",
              "      <th></th>\n",
              "      <th>meter</th>\n",
              "      <th>building_id</th>\n",
              "      <th>Month</th>\n",
              "      <th>Day</th>\n",
              "      <th>site_id</th>\n",
              "      <th>air_temperature</th>\n",
              "      <th>wind_speed</th>\n",
              "      <th>precip_depth_1_hr</th>\n",
              "      <th>cloud_coverage</th>\n",
              "      <th>sea_level_pressure</th>\n",
              "      <th>...</th>\n",
              "      <th>primary_use_Office</th>\n",
              "      <th>primary_use_Other</th>\n",
              "      <th>primary_use_Parking</th>\n",
              "      <th>primary_use_Public services</th>\n",
              "      <th>primary_use_Religious worship</th>\n",
              "      <th>primary_use_Retail</th>\n",
              "      <th>primary_use_Services</th>\n",
              "      <th>primary_use_Technology/science</th>\n",
              "      <th>primary_use_Utility</th>\n",
              "      <th>primary_use_Warehouse/storage</th>\n",
              "    </tr>\n",
              "  </thead>\n",
              "  <tbody>\n",
              "    <tr>\n",
              "      <th>0</th>\n",
              "      <td>0</td>\n",
              "      <td>0</td>\n",
              "      <td>1</td>\n",
              "      <td>1</td>\n",
              "      <td>0</td>\n",
              "      <td>0.712774</td>\n",
              "      <td>-0.963826</td>\n",
              "      <td>-0.410977</td>\n",
              "      <td>2.596133</td>\n",
              "      <td>0.422406</td>\n",
              "      <td>...</td>\n",
              "      <td>0</td>\n",
              "      <td>0</td>\n",
              "      <td>0</td>\n",
              "      <td>0</td>\n",
              "      <td>0</td>\n",
              "      <td>0</td>\n",
              "      <td>0</td>\n",
              "      <td>0</td>\n",
              "      <td>0</td>\n",
              "      <td>0</td>\n",
              "    </tr>\n",
              "    <tr>\n",
              "      <th>1</th>\n",
              "      <td>0</td>\n",
              "      <td>0</td>\n",
              "      <td>1</td>\n",
              "      <td>2</td>\n",
              "      <td>0</td>\n",
              "      <td>0.344816</td>\n",
              "      <td>0.346012</td>\n",
              "      <td>-0.388825</td>\n",
              "      <td>2.841984</td>\n",
              "      <td>0.427575</td>\n",
              "      <td>...</td>\n",
              "      <td>0</td>\n",
              "      <td>0</td>\n",
              "      <td>0</td>\n",
              "      <td>0</td>\n",
              "      <td>0</td>\n",
              "      <td>0</td>\n",
              "      <td>0</td>\n",
              "      <td>0</td>\n",
              "      <td>0</td>\n",
              "      <td>0</td>\n",
              "    </tr>\n",
              "    <tr>\n",
              "      <th>2</th>\n",
              "      <td>0</td>\n",
              "      <td>0</td>\n",
              "      <td>1</td>\n",
              "      <td>3</td>\n",
              "      <td>0</td>\n",
              "      <td>-0.111097</td>\n",
              "      <td>1.025969</td>\n",
              "      <td>-0.131158</td>\n",
              "      <td>2.917019</td>\n",
              "      <td>0.179512</td>\n",
              "      <td>...</td>\n",
              "      <td>0</td>\n",
              "      <td>0</td>\n",
              "      <td>0</td>\n",
              "      <td>0</td>\n",
              "      <td>0</td>\n",
              "      <td>0</td>\n",
              "      <td>0</td>\n",
              "      <td>0</td>\n",
              "      <td>0</td>\n",
              "      <td>0</td>\n",
              "    </tr>\n",
              "    <tr>\n",
              "      <th>3</th>\n",
              "      <td>0</td>\n",
              "      <td>0</td>\n",
              "      <td>1</td>\n",
              "      <td>4</td>\n",
              "      <td>0</td>\n",
              "      <td>-0.320494</td>\n",
              "      <td>0.572664</td>\n",
              "      <td>-0.057538</td>\n",
              "      <td>2.208510</td>\n",
              "      <td>-0.068730</td>\n",
              "      <td>...</td>\n",
              "      <td>0</td>\n",
              "      <td>0</td>\n",
              "      <td>0</td>\n",
              "      <td>0</td>\n",
              "      <td>0</td>\n",
              "      <td>0</td>\n",
              "      <td>0</td>\n",
              "      <td>0</td>\n",
              "      <td>0</td>\n",
              "      <td>0</td>\n",
              "    </tr>\n",
              "    <tr>\n",
              "      <th>4</th>\n",
              "      <td>0</td>\n",
              "      <td>0</td>\n",
              "      <td>1</td>\n",
              "      <td>5</td>\n",
              "      <td>0</td>\n",
              "      <td>-0.185737</td>\n",
              "      <td>1.821887</td>\n",
              "      <td>-0.352016</td>\n",
              "      <td>1.475106</td>\n",
              "      <td>0.975027</td>\n",
              "      <td>...</td>\n",
              "      <td>0</td>\n",
              "      <td>0</td>\n",
              "      <td>0</td>\n",
              "      <td>0</td>\n",
              "      <td>0</td>\n",
              "      <td>0</td>\n",
              "      <td>0</td>\n",
              "      <td>0</td>\n",
              "      <td>0</td>\n",
              "      <td>0</td>\n",
              "    </tr>\n",
              "    <tr>\n",
              "      <th>...</th>\n",
              "      <td>...</td>\n",
              "      <td>...</td>\n",
              "      <td>...</td>\n",
              "      <td>...</td>\n",
              "      <td>...</td>\n",
              "      <td>...</td>\n",
              "      <td>...</td>\n",
              "      <td>...</td>\n",
              "      <td>...</td>\n",
              "      <td>...</td>\n",
              "      <td>...</td>\n",
              "      <td>...</td>\n",
              "      <td>...</td>\n",
              "      <td>...</td>\n",
              "      <td>...</td>\n",
              "      <td>...</td>\n",
              "      <td>...</td>\n",
              "      <td>...</td>\n",
              "      <td>...</td>\n",
              "      <td>...</td>\n",
              "      <td>...</td>\n",
              "    </tr>\n",
              "    <tr>\n",
              "      <th>558821</th>\n",
              "      <td>3</td>\n",
              "      <td>1331</td>\n",
              "      <td>8</td>\n",
              "      <td>27</td>\n",
              "      <td>15</td>\n",
              "      <td>0.505394</td>\n",
              "      <td>-1.469841</td>\n",
              "      <td>-0.000226</td>\n",
              "      <td>1.412518</td>\n",
              "      <td>0.948531</td>\n",
              "      <td>...</td>\n",
              "      <td>0</td>\n",
              "      <td>0</td>\n",
              "      <td>0</td>\n",
              "      <td>0</td>\n",
              "      <td>0</td>\n",
              "      <td>0</td>\n",
              "      <td>0</td>\n",
              "      <td>0</td>\n",
              "      <td>0</td>\n",
              "      <td>0</td>\n",
              "    </tr>\n",
              "    <tr>\n",
              "      <th>558822</th>\n",
              "      <td>3</td>\n",
              "      <td>1331</td>\n",
              "      <td>8</td>\n",
              "      <td>28</td>\n",
              "      <td>15</td>\n",
              "      <td>0.694973</td>\n",
              "      <td>-0.218575</td>\n",
              "      <td>0.831738</td>\n",
              "      <td>1.470957</td>\n",
              "      <td>0.885750</td>\n",
              "      <td>...</td>\n",
              "      <td>0</td>\n",
              "      <td>0</td>\n",
              "      <td>0</td>\n",
              "      <td>0</td>\n",
              "      <td>0</td>\n",
              "      <td>0</td>\n",
              "      <td>0</td>\n",
              "      <td>0</td>\n",
              "      <td>0</td>\n",
              "      <td>0</td>\n",
              "    </tr>\n",
              "    <tr>\n",
              "      <th>558823</th>\n",
              "      <td>3</td>\n",
              "      <td>1331</td>\n",
              "      <td>8</td>\n",
              "      <td>29</td>\n",
              "      <td>15</td>\n",
              "      <td>0.581600</td>\n",
              "      <td>-0.057810</td>\n",
              "      <td>-0.000226</td>\n",
              "      <td>2.096133</td>\n",
              "      <td>0.910950</td>\n",
              "      <td>...</td>\n",
              "      <td>0</td>\n",
              "      <td>0</td>\n",
              "      <td>0</td>\n",
              "      <td>0</td>\n",
              "      <td>0</td>\n",
              "      <td>0</td>\n",
              "      <td>0</td>\n",
              "      <td>0</td>\n",
              "      <td>0</td>\n",
              "      <td>0</td>\n",
              "    </tr>\n",
              "    <tr>\n",
              "      <th>558824</th>\n",
              "      <td>3</td>\n",
              "      <td>1331</td>\n",
              "      <td>8</td>\n",
              "      <td>30</td>\n",
              "      <td>15</td>\n",
              "      <td>0.155947</td>\n",
              "      <td>-1.214790</td>\n",
              "      <td>-0.000226</td>\n",
              "      <td>0.412518</td>\n",
              "      <td>0.905137</td>\n",
              "      <td>...</td>\n",
              "      <td>0</td>\n",
              "      <td>0</td>\n",
              "      <td>0</td>\n",
              "      <td>0</td>\n",
              "      <td>0</td>\n",
              "      <td>0</td>\n",
              "      <td>0</td>\n",
              "      <td>0</td>\n",
              "      <td>0</td>\n",
              "      <td>0</td>\n",
              "    </tr>\n",
              "    <tr>\n",
              "      <th>558825</th>\n",
              "      <td>3</td>\n",
              "      <td>1331</td>\n",
              "      <td>8</td>\n",
              "      <td>31</td>\n",
              "      <td>15</td>\n",
              "      <td>0.313346</td>\n",
              "      <td>-0.903210</td>\n",
              "      <td>-0.091920</td>\n",
              "      <td>1.196062</td>\n",
              "      <td>0.037528</td>\n",
              "      <td>...</td>\n",
              "      <td>0</td>\n",
              "      <td>0</td>\n",
              "      <td>0</td>\n",
              "      <td>0</td>\n",
              "      <td>0</td>\n",
              "      <td>0</td>\n",
              "      <td>0</td>\n",
              "      <td>0</td>\n",
              "      <td>0</td>\n",
              "      <td>0</td>\n",
              "    </tr>\n",
              "  </tbody>\n",
              "</table>\n",
              "<p>558826 rows × 27 columns</p>\n",
              "</div>\n",
              "      <button class=\"colab-df-convert\" onclick=\"convertToInteractive('df-f5d630f7-c21e-4ee4-885b-21701a5ce557')\"\n",
              "              title=\"Convert this dataframe to an interactive table.\"\n",
              "              style=\"display:none;\">\n",
              "        \n",
              "  <svg xmlns=\"http://www.w3.org/2000/svg\" height=\"24px\"viewBox=\"0 0 24 24\"\n",
              "       width=\"24px\">\n",
              "    <path d=\"M0 0h24v24H0V0z\" fill=\"none\"/>\n",
              "    <path d=\"M18.56 5.44l.94 2.06.94-2.06 2.06-.94-2.06-.94-.94-2.06-.94 2.06-2.06.94zm-11 1L8.5 8.5l.94-2.06 2.06-.94-2.06-.94L8.5 2.5l-.94 2.06-2.06.94zm10 10l.94 2.06.94-2.06 2.06-.94-2.06-.94-.94-2.06-.94 2.06-2.06.94z\"/><path d=\"M17.41 7.96l-1.37-1.37c-.4-.4-.92-.59-1.43-.59-.52 0-1.04.2-1.43.59L10.3 9.45l-7.72 7.72c-.78.78-.78 2.05 0 2.83L4 21.41c.39.39.9.59 1.41.59.51 0 1.02-.2 1.41-.59l7.78-7.78 2.81-2.81c.8-.78.8-2.07 0-2.86zM5.41 20L4 18.59l7.72-7.72 1.47 1.35L5.41 20z\"/>\n",
              "  </svg>\n",
              "      </button>\n",
              "      \n",
              "  <style>\n",
              "    .colab-df-container {\n",
              "      display:flex;\n",
              "      flex-wrap:wrap;\n",
              "      gap: 12px;\n",
              "    }\n",
              "\n",
              "    .colab-df-convert {\n",
              "      background-color: #E8F0FE;\n",
              "      border: none;\n",
              "      border-radius: 50%;\n",
              "      cursor: pointer;\n",
              "      display: none;\n",
              "      fill: #1967D2;\n",
              "      height: 32px;\n",
              "      padding: 0 0 0 0;\n",
              "      width: 32px;\n",
              "    }\n",
              "\n",
              "    .colab-df-convert:hover {\n",
              "      background-color: #E2EBFA;\n",
              "      box-shadow: 0px 1px 2px rgba(60, 64, 67, 0.3), 0px 1px 3px 1px rgba(60, 64, 67, 0.15);\n",
              "      fill: #174EA6;\n",
              "    }\n",
              "\n",
              "    [theme=dark] .colab-df-convert {\n",
              "      background-color: #3B4455;\n",
              "      fill: #D2E3FC;\n",
              "    }\n",
              "\n",
              "    [theme=dark] .colab-df-convert:hover {\n",
              "      background-color: #434B5C;\n",
              "      box-shadow: 0px 1px 3px 1px rgba(0, 0, 0, 0.15);\n",
              "      filter: drop-shadow(0px 1px 2px rgba(0, 0, 0, 0.3));\n",
              "      fill: #FFFFFF;\n",
              "    }\n",
              "  </style>\n",
              "\n",
              "      <script>\n",
              "        const buttonEl =\n",
              "          document.querySelector('#df-f5d630f7-c21e-4ee4-885b-21701a5ce557 button.colab-df-convert');\n",
              "        buttonEl.style.display =\n",
              "          google.colab.kernel.accessAllowed ? 'block' : 'none';\n",
              "\n",
              "        async function convertToInteractive(key) {\n",
              "          const element = document.querySelector('#df-f5d630f7-c21e-4ee4-885b-21701a5ce557');\n",
              "          const dataTable =\n",
              "            await google.colab.kernel.invokeFunction('convertToInteractive',\n",
              "                                                     [key], {});\n",
              "          if (!dataTable) return;\n",
              "\n",
              "          const docLinkHtml = 'Like what you see? Visit the ' +\n",
              "            '<a target=\"_blank\" href=https://colab.research.google.com/notebooks/data_table.ipynb>data table notebook</a>'\n",
              "            + ' to learn more about interactive tables.';\n",
              "          element.innerHTML = '';\n",
              "          dataTable['output_type'] = 'display_data';\n",
              "          await google.colab.output.renderOutput(dataTable, element);\n",
              "          const docLink = document.createElement('div');\n",
              "          docLink.innerHTML = docLinkHtml;\n",
              "          element.appendChild(docLink);\n",
              "        }\n",
              "      </script>\n",
              "    </div>\n",
              "  </div>\n",
              "  "
            ],
            "text/plain": [
              "        meter  building_id  Month  Day  site_id  air_temperature  wind_speed  \\\n",
              "0           0            0      1    1        0         0.712774   -0.963826   \n",
              "1           0            0      1    2        0         0.344816    0.346012   \n",
              "2           0            0      1    3        0        -0.111097    1.025969   \n",
              "3           0            0      1    4        0        -0.320494    0.572664   \n",
              "4           0            0      1    5        0        -0.185737    1.821887   \n",
              "...       ...          ...    ...  ...      ...              ...         ...   \n",
              "558821      3         1331      8   27       15         0.505394   -1.469841   \n",
              "558822      3         1331      8   28       15         0.694973   -0.218575   \n",
              "558823      3         1331      8   29       15         0.581600   -0.057810   \n",
              "558824      3         1331      8   30       15         0.155947   -1.214790   \n",
              "558825      3         1331      8   31       15         0.313346   -0.903210   \n",
              "\n",
              "        precip_depth_1_hr  cloud_coverage  sea_level_pressure  ...  \\\n",
              "0               -0.410977        2.596133            0.422406  ...   \n",
              "1               -0.388825        2.841984            0.427575  ...   \n",
              "2               -0.131158        2.917019            0.179512  ...   \n",
              "3               -0.057538        2.208510           -0.068730  ...   \n",
              "4               -0.352016        1.475106            0.975027  ...   \n",
              "...                   ...             ...                 ...  ...   \n",
              "558821          -0.000226        1.412518            0.948531  ...   \n",
              "558822           0.831738        1.470957            0.885750  ...   \n",
              "558823          -0.000226        2.096133            0.910950  ...   \n",
              "558824          -0.000226        0.412518            0.905137  ...   \n",
              "558825          -0.091920        1.196062            0.037528  ...   \n",
              "\n",
              "        primary_use_Office  primary_use_Other  primary_use_Parking  \\\n",
              "0                        0                  0                    0   \n",
              "1                        0                  0                    0   \n",
              "2                        0                  0                    0   \n",
              "3                        0                  0                    0   \n",
              "4                        0                  0                    0   \n",
              "...                    ...                ...                  ...   \n",
              "558821                   0                  0                    0   \n",
              "558822                   0                  0                    0   \n",
              "558823                   0                  0                    0   \n",
              "558824                   0                  0                    0   \n",
              "558825                   0                  0                    0   \n",
              "\n",
              "        primary_use_Public services  primary_use_Religious worship  \\\n",
              "0                                 0                              0   \n",
              "1                                 0                              0   \n",
              "2                                 0                              0   \n",
              "3                                 0                              0   \n",
              "4                                 0                              0   \n",
              "...                             ...                            ...   \n",
              "558821                            0                              0   \n",
              "558822                            0                              0   \n",
              "558823                            0                              0   \n",
              "558824                            0                              0   \n",
              "558825                            0                              0   \n",
              "\n",
              "        primary_use_Retail  primary_use_Services  \\\n",
              "0                        0                     0   \n",
              "1                        0                     0   \n",
              "2                        0                     0   \n",
              "3                        0                     0   \n",
              "4                        0                     0   \n",
              "...                    ...                   ...   \n",
              "558821                   0                     0   \n",
              "558822                   0                     0   \n",
              "558823                   0                     0   \n",
              "558824                   0                     0   \n",
              "558825                   0                     0   \n",
              "\n",
              "        primary_use_Technology/science  primary_use_Utility  \\\n",
              "0                                    0                    0   \n",
              "1                                    0                    0   \n",
              "2                                    0                    0   \n",
              "3                                    0                    0   \n",
              "4                                    0                    0   \n",
              "...                                ...                  ...   \n",
              "558821                               0                    0   \n",
              "558822                               0                    0   \n",
              "558823                               0                    0   \n",
              "558824                               0                    0   \n",
              "558825                               0                    0   \n",
              "\n",
              "        primary_use_Warehouse/storage  \n",
              "0                                   0  \n",
              "1                                   0  \n",
              "2                                   0  \n",
              "3                                   0  \n",
              "4                                   0  \n",
              "...                               ...  \n",
              "558821                              0  \n",
              "558822                              0  \n",
              "558823                              0  \n",
              "558824                              0  \n",
              "558825                              0  \n",
              "\n",
              "[558826 rows x 27 columns]"
            ]
          },
          "execution_count": 10,
          "metadata": {},
          "output_type": "execute_result"
        }
      ],
      "source": [
        "train_daily_x"
      ]
    },
    {
      "cell_type": "code",
      "execution_count": null,
      "metadata": {
        "colab": {
          "base_uri": "https://localhost:8080/",
          "height": 206
        },
        "id": "CkTdPMcj8z1u",
        "outputId": "94e5602c-be18-49fc-b60e-87a32e321faf"
      },
      "outputs": [
        {
          "data": {
            "text/html": [
              "\n",
              "  <div id=\"df-174a77ec-016b-4aa0-ad76-7a11978c52d2\">\n",
              "    <div class=\"colab-df-container\">\n",
              "      <div>\n",
              "<style scoped>\n",
              "    .dataframe tbody tr th:only-of-type {\n",
              "        vertical-align: middle;\n",
              "    }\n",
              "\n",
              "    .dataframe tbody tr th {\n",
              "        vertical-align: top;\n",
              "    }\n",
              "\n",
              "    .dataframe thead th {\n",
              "        text-align: right;\n",
              "    }\n",
              "</style>\n",
              "<table border=\"1\" class=\"dataframe\">\n",
              "  <thead>\n",
              "    <tr style=\"text-align: right;\">\n",
              "      <th></th>\n",
              "      <th>meter_reading</th>\n",
              "    </tr>\n",
              "  </thead>\n",
              "  <tbody>\n",
              "    <tr>\n",
              "      <th>558821</th>\n",
              "      <td>36565.135</td>\n",
              "    </tr>\n",
              "    <tr>\n",
              "      <th>558822</th>\n",
              "      <td>30105.365</td>\n",
              "    </tr>\n",
              "    <tr>\n",
              "      <th>558823</th>\n",
              "      <td>31894.723</td>\n",
              "    </tr>\n",
              "    <tr>\n",
              "      <th>558824</th>\n",
              "      <td>38986.637</td>\n",
              "    </tr>\n",
              "    <tr>\n",
              "      <th>558825</th>\n",
              "      <td>37778.410</td>\n",
              "    </tr>\n",
              "  </tbody>\n",
              "</table>\n",
              "</div>\n",
              "      <button class=\"colab-df-convert\" onclick=\"convertToInteractive('df-174a77ec-016b-4aa0-ad76-7a11978c52d2')\"\n",
              "              title=\"Convert this dataframe to an interactive table.\"\n",
              "              style=\"display:none;\">\n",
              "        \n",
              "  <svg xmlns=\"http://www.w3.org/2000/svg\" height=\"24px\"viewBox=\"0 0 24 24\"\n",
              "       width=\"24px\">\n",
              "    <path d=\"M0 0h24v24H0V0z\" fill=\"none\"/>\n",
              "    <path d=\"M18.56 5.44l.94 2.06.94-2.06 2.06-.94-2.06-.94-.94-2.06-.94 2.06-2.06.94zm-11 1L8.5 8.5l.94-2.06 2.06-.94-2.06-.94L8.5 2.5l-.94 2.06-2.06.94zm10 10l.94 2.06.94-2.06 2.06-.94-2.06-.94-.94-2.06-.94 2.06-2.06.94z\"/><path d=\"M17.41 7.96l-1.37-1.37c-.4-.4-.92-.59-1.43-.59-.52 0-1.04.2-1.43.59L10.3 9.45l-7.72 7.72c-.78.78-.78 2.05 0 2.83L4 21.41c.39.39.9.59 1.41.59.51 0 1.02-.2 1.41-.59l7.78-7.78 2.81-2.81c.8-.78.8-2.07 0-2.86zM5.41 20L4 18.59l7.72-7.72 1.47 1.35L5.41 20z\"/>\n",
              "  </svg>\n",
              "      </button>\n",
              "      \n",
              "  <style>\n",
              "    .colab-df-container {\n",
              "      display:flex;\n",
              "      flex-wrap:wrap;\n",
              "      gap: 12px;\n",
              "    }\n",
              "\n",
              "    .colab-df-convert {\n",
              "      background-color: #E8F0FE;\n",
              "      border: none;\n",
              "      border-radius: 50%;\n",
              "      cursor: pointer;\n",
              "      display: none;\n",
              "      fill: #1967D2;\n",
              "      height: 32px;\n",
              "      padding: 0 0 0 0;\n",
              "      width: 32px;\n",
              "    }\n",
              "\n",
              "    .colab-df-convert:hover {\n",
              "      background-color: #E2EBFA;\n",
              "      box-shadow: 0px 1px 2px rgba(60, 64, 67, 0.3), 0px 1px 3px 1px rgba(60, 64, 67, 0.15);\n",
              "      fill: #174EA6;\n",
              "    }\n",
              "\n",
              "    [theme=dark] .colab-df-convert {\n",
              "      background-color: #3B4455;\n",
              "      fill: #D2E3FC;\n",
              "    }\n",
              "\n",
              "    [theme=dark] .colab-df-convert:hover {\n",
              "      background-color: #434B5C;\n",
              "      box-shadow: 0px 1px 3px 1px rgba(0, 0, 0, 0.15);\n",
              "      filter: drop-shadow(0px 1px 2px rgba(0, 0, 0, 0.3));\n",
              "      fill: #FFFFFF;\n",
              "    }\n",
              "  </style>\n",
              "\n",
              "      <script>\n",
              "        const buttonEl =\n",
              "          document.querySelector('#df-174a77ec-016b-4aa0-ad76-7a11978c52d2 button.colab-df-convert');\n",
              "        buttonEl.style.display =\n",
              "          google.colab.kernel.accessAllowed ? 'block' : 'none';\n",
              "\n",
              "        async function convertToInteractive(key) {\n",
              "          const element = document.querySelector('#df-174a77ec-016b-4aa0-ad76-7a11978c52d2');\n",
              "          const dataTable =\n",
              "            await google.colab.kernel.invokeFunction('convertToInteractive',\n",
              "                                                     [key], {});\n",
              "          if (!dataTable) return;\n",
              "\n",
              "          const docLinkHtml = 'Like what you see? Visit the ' +\n",
              "            '<a target=\"_blank\" href=https://colab.research.google.com/notebooks/data_table.ipynb>data table notebook</a>'\n",
              "            + ' to learn more about interactive tables.';\n",
              "          element.innerHTML = '';\n",
              "          dataTable['output_type'] = 'display_data';\n",
              "          await google.colab.output.renderOutput(dataTable, element);\n",
              "          const docLink = document.createElement('div');\n",
              "          docLink.innerHTML = docLinkHtml;\n",
              "          element.appendChild(docLink);\n",
              "        }\n",
              "      </script>\n",
              "    </div>\n",
              "  </div>\n",
              "  "
            ],
            "text/plain": [
              "        meter_reading\n",
              "558821      36565.135\n",
              "558822      30105.365\n",
              "558823      31894.723\n",
              "558824      38986.637\n",
              "558825      37778.410"
            ]
          },
          "execution_count": 25,
          "metadata": {},
          "output_type": "execute_result"
        }
      ],
      "source": [
        "train_daily_y.tail()"
      ]
    },
    {
      "cell_type": "code",
      "execution_count": null,
      "metadata": {
        "id": "cjVACqSImAJI"
      },
      "outputs": [],
      "source": [
        "train_daily_x"
      ]
    },
    {
      "cell_type": "markdown",
      "source": [
        "# Simple Pre-processing"
      ],
      "metadata": {
        "id": "0oxiQAPMcuQN"
      }
    },
    {
      "cell_type": "markdown",
      "source": [
        "As the LSTM accepts ONLY 3D shaped array data (this step is also done when we need to make future predictions using the test set).\n",
        "1. Convert into array  \n",
        "2. 3D will be: (train_samples, window_size, no_of_features)\n",
        "- train_samples: is the number of training samples (rows).\n",
        "- window_size: is the number of time steps or window size.\n",
        "- no_of_features: is the number of features in each time step."
      ],
      "metadata": {
        "id": "5gdaRH6D9H8n"
      }
    },
    {
      "cell_type": "markdown",
      "source": [
        "Use train_test_split() to divide the train data into train and validation sets (Non-scaled)"
      ],
      "metadata": {
        "id": "4fWzSBnifyw7"
      }
    },
    {
      "cell_type": "code",
      "source": [
        "# Splitting train_x --> train_x, x_val\n",
        "# Splitting train_y --> train_y, y_val\n",
        "train_daily_x, x_val, train_daily_y, y_val = train_test_split(train_daily_x, train_daily_y, test_size=0.2, shuffle=False)"
      ],
      "metadata": {
        "id": "vmaulCr2b4uI"
      },
      "execution_count": null,
      "outputs": []
    },
    {
      "cell_type": "markdown",
      "source": [
        "## Reshaping train and test data into 3D array (Non-scaled)"
      ],
      "metadata": {
        "id": "7DHEP-O-cEKZ"
      }
    },
    {
      "cell_type": "code",
      "source": [
        "# [1]---Converting the dataframe -> array\n",
        "# Train\n",
        "train_daily_x_arr = train_daily_x.values[:]\n",
        "\n",
        "# Test\n",
        "test_daily_x_arr = test_daily_x.values[:]\n",
        "\n",
        "# Validation of train set\n",
        "x_val = x_val.values[:]\n",
        "\n",
        "# [2]---Reshaping the array -> 3D array\n",
        "# Train\n",
        "train_daily_x_3D = train_daily_x_arr.reshape((train_daily_x.shape[0], 1, train_daily_x.shape[-1]))\n",
        "\n",
        "# Test\n",
        "test_daily_x_3D = test_daily_x_arr.reshape((test_daily_x.shape[0], 1, test_daily_x.shape[-1]))\n",
        "    \n",
        "# Validation of train set\n",
        "x_val = x_val.reshape((x_val.shape[0], 1, x_val.shape[-1]))"
      ],
      "metadata": {
        "id": "8ylMEpIkcLV0"
      },
      "execution_count": 64,
      "outputs": []
    },
    {
      "cell_type": "markdown",
      "source": [
        "Use train_test_split() to divide the train data into train and validation sets (Scaled)"
      ],
      "metadata": {
        "id": "xiDCaOXzfn9o"
      }
    },
    {
      "cell_type": "code",
      "source": [
        "# Splitting train_x --> train_x, x_val\n",
        "# Splitting train_y --> train_y, y_val\n",
        "train_x_scaled, x_val, train_daily_y, y_val = train_test_split(train_x_scaled, train_daily_y, test_size=0.2, shuffle=False)"
      ],
      "metadata": {
        "id": "s3BCX2Bf8vhC"
      },
      "execution_count": 6,
      "outputs": []
    },
    {
      "cell_type": "markdown",
      "source": [
        "## Reshaping train & test data into 3D array (scaled)"
      ],
      "metadata": {
        "id": "tx_nloYUcSHk"
      }
    },
    {
      "cell_type": "code",
      "source": [
        "# [1]---Converting the dataframe -> array\n",
        "# Train\n",
        "train_x_scaled_arr = train_x_scaled.values[:]\n",
        "\n",
        "# Test\n",
        "test_x_scaled_arr = test_x_scaled.values[:]\n",
        "\n",
        "# Validation of train set\n",
        "x_val = x_val.values[:]\n",
        "\n",
        "# [2]---Reshaping the array -> 3D array\n",
        "# Train\n",
        "train_x_scaled_3D = train_x_scaled_arr.reshape((train_x_scaled.shape[0], 1, train_x_scaled.shape[-1]))\n",
        "\n",
        "# Test\n",
        "test_x_scaled_3D = test_x_scaled_arr.reshape((test_x_scaled.shape[0], 1, test_x_scaled.shape[-1]))\n",
        "\n",
        "# Validation of train set \n",
        "x_val = x_val.reshape((x_val.shape[0], 1, x_val.shape[-1]))"
      ],
      "metadata": {
        "id": "yL2VqtK1cbrK"
      },
      "execution_count": 7,
      "outputs": []
    },
    {
      "cell_type": "markdown",
      "metadata": {
        "id": "mV_PjTbf3a4e"
      },
      "source": [
        "# LSTM 1"
      ]
    },
    {
      "cell_type": "code",
      "execution_count": null,
      "metadata": {
        "id": "PFVfmcuQXV6p"
      },
      "outputs": [],
      "source": [
        "def make_lstm_model(metrics=RootMeanSquaredError(), loss='mse', optimizer=\"rmsprop\", drop_rate=0.5):\n",
        "\n",
        "    LSTM_MODEL = Sequential()\n",
        "\n",
        "    LSTM_MODEL.add(LSTM(128, return_sequences=True))\n",
        "    LSTM_MODEL.add(Dropout(drop_rate))\n",
        "\n",
        "    LSTM_MODEL.add(BatchNormalization())\n",
        "\n",
        "    LSTM_MODEL.add(LSTM(128, return_sequences=False))\n",
        "\n",
        "    LSTM_MODEL.add(BatchNormalization())\n",
        "\n",
        "    LSTM_MODEL.add(Dropout(drop_rate))\n",
        "\n",
        "    LSTM_MODEL.add(Dense(1))\n",
        "\n",
        "    LSTM_MODEL.compile(optimizer=optimizer, loss=loss, metrics=[metrics])\n",
        "\n",
        "    return LSTM_MODEL"
      ]
    },
    {
      "cell_type": "code",
      "execution_count": null,
      "metadata": {
        "colab": {
          "base_uri": "https://localhost:8080/"
        },
        "id": "J3n4Cj4mt7h0",
        "outputId": "3725492a-c5f6-4053-9666-1e6434540160"
      },
      "outputs": [
        {
          "data": {
            "text/plain": [
              "(13346745, 31)"
            ]
          },
          "execution_count": 8,
          "metadata": {},
          "output_type": "execute_result"
        }
      ],
      "source": [
        "train_daily_x.shape"
      ]
    },
    {
      "cell_type": "code",
      "execution_count": null,
      "metadata": {
        "id": "-8UV81S2j2CY"
      },
      "outputs": [],
      "source": [
        "def run_lstm_model(model, train_daily_x, train_daily_y, epochs=50, batch_size=500, verbose=1, callbacks=None):\n",
        "    train_daily_x, x_val, train_daily_y, y_val = train_test_split(train_daily_x, train_daily_y, test_size=0.2, shuffle=False)\n",
        "\n",
        "    train_daily_x = train_daily_x.values[:]\n",
        "\n",
        "    train_daily_x = train_daily_x.reshape((train_daily_x.shape[0], 1, train_daily_x.shape[-1]))\n",
        "\n",
        "    x_val = x_val.values[:]\n",
        "    \n",
        "    x_val = x_val.reshape((x_val.shape[0], 1, x_val.shape[-1]))\n",
        "    \n",
        "    return model.fit(train_daily_x, train_daily_y, epochs=epochs, batch_size=batch_size, verbose=verbose, validation_data=(x_val, y_val), callbacks=callbacks)"
      ]
    },
    {
      "cell_type": "code",
      "execution_count": null,
      "metadata": {
        "id": "yRNfHslfmLoN"
      },
      "outputs": [],
      "source": [
        "lstm_model = make_lstm_model(drop_rate=0.2)"
      ]
    },
    {
      "cell_type": "code",
      "execution_count": null,
      "metadata": {
        "colab": {
          "base_uri": "https://localhost:8080/"
        },
        "id": "eiZeD7RRoH35",
        "outputId": "f932f42d-59f3-4383-b7b3-e91762e5b32c"
      },
      "outputs": [
        {
          "name": "stdout",
          "output_type": "stream",
          "text": [
            "Model: \"sequential\"\n",
            "_________________________________________________________________\n",
            " Layer (type)                Output Shape              Param #   \n",
            "=================================================================\n",
            " lstm (LSTM)                 (None, 1, 128)            81920     \n",
            "                                                                 \n",
            " dropout (Dropout)           (None, 1, 128)            0         \n",
            "                                                                 \n",
            " batch_normalization (BatchN  (None, 1, 128)           512       \n",
            " ormalization)                                                   \n",
            "                                                                 \n",
            " lstm_1 (LSTM)               (None, 128)               131584    \n",
            "                                                                 \n",
            " batch_normalization_1 (Batc  (None, 128)              512       \n",
            " hNormalization)                                                 \n",
            "                                                                 \n",
            " dropout_1 (Dropout)         (None, 128)               0         \n",
            "                                                                 \n",
            " dense (Dense)               (None, 1)                 129       \n",
            "                                                                 \n",
            "=================================================================\n",
            "Total params: 214,657\n",
            "Trainable params: 214,145\n",
            "Non-trainable params: 512\n",
            "_________________________________________________________________\n"
          ]
        }
      ],
      "source": [
        "lstm_model.build(input_shape=(None, 1, 31))\n",
        "lstm_model.summary()"
      ]
    },
    {
      "cell_type": "code",
      "execution_count": null,
      "metadata": {
        "id": "HRw39Bq4nnGF"
      },
      "outputs": [],
      "source": [
        "cp = ModelCheckpoint('LSTM_MODEL/', save_best_only=True)"
      ]
    },
    {
      "cell_type": "code",
      "execution_count": null,
      "metadata": {
        "colab": {
          "base_uri": "https://localhost:8080/"
        },
        "id": "B8EF5WOnmRWe",
        "outputId": "d1cbea2f-0b87-4791-d1dc-7d4dd2008472"
      },
      "outputs": [
        {
          "name": "stdout",
          "output_type": "stream",
          "text": [
            "Epoch 1/30\n",
            "21354/21355 [============================>.] - ETA: 0s - loss: 4.6893 - root_mean_squared_error: 2.1612"
          ]
        },
        {
          "name": "stderr",
          "output_type": "stream",
          "text": [
            "WARNING:absl:Found untraced functions such as _update_step_xla, lstm_cell_layer_call_fn, lstm_cell_layer_call_and_return_conditional_losses, lstm_cell_1_layer_call_fn, lstm_cell_1_layer_call_and_return_conditional_losses while saving (showing 5 of 5). These functions will not be directly callable after loading.\n"
          ]
        },
        {
          "name": "stdout",
          "output_type": "stream",
          "text": [
            "\b\b\b\b\b\b\b\b\b\b\b\b\b\b\b\b\b\b\b\b\b\b\b\b\b\b\b\b\b\b\b\b\b\b\b\b\b\b\b\b\b\b\b\b\b\b\b\b\b\b\b\b\b\b\b\b\b\b\b\b\b\b\b\b\b\b\b\b\b\b\b\b\b\b\b\b\b\b\b\b\b\b\b\b\b\b\b\b\b\b\b\b\b\b\b\b\b\b\b\b\b\b\b\r21355/21355 [==============================] - 344s 16ms/step - loss: 4.6893 - root_mean_squared_error: 2.1612 - val_loss: 4.2588 - val_root_mean_squared_error: 2.0508\n",
            "Epoch 2/30\n",
            "21355/21355 [==============================] - 415s 19ms/step - loss: 4.7247 - root_mean_squared_error: 2.1727 - val_loss: 4.2609 - val_root_mean_squared_error: 2.0512\n",
            "Epoch 3/30\n",
            "21355/21355 [==============================] - 454s 21ms/step - loss: 4.7275 - root_mean_squared_error: 2.1734 - val_loss: 4.2777 - val_root_mean_squared_error: 2.0543\n",
            "Epoch 4/30\n",
            "21355/21355 [==============================] - ETA: 0s - loss: 4.6920 - root_mean_squared_error: 2.1652"
          ]
        },
        {
          "name": "stderr",
          "output_type": "stream",
          "text": [
            "WARNING:absl:Found untraced functions such as _update_step_xla, lstm_cell_layer_call_fn, lstm_cell_layer_call_and_return_conditional_losses, lstm_cell_1_layer_call_fn, lstm_cell_1_layer_call_and_return_conditional_losses while saving (showing 5 of 5). These functions will not be directly callable after loading.\n"
          ]
        },
        {
          "name": "stdout",
          "output_type": "stream",
          "text": [
            "\b\b\b\b\b\b\b\b\b\b\b\b\b\b\b\b\b\b\b\b\b\b\b\b\b\b\b\b\b\b\b\b\b\b\b\b\b\b\b\b\b\b\b\b\b\b\b\b\b\b\b\b\b\b\b\b\b\b\b\b\b\b\b\b\b\b\b\b\b\b\b\b\b\b\b\b\b\b\b\b\b\b\b\b\b\b\b\b\b\b\b\b\b\b\b\b\b\b\b\b\b\b\b\r21355/21355 [==============================] - 332s 16ms/step - loss: 4.6920 - root_mean_squared_error: 2.1652 - val_loss: 4.2169 - val_root_mean_squared_error: 2.0397\n",
            "Epoch 5/30\n",
            "21355/21355 [==============================] - 321s 15ms/step - loss: 4.6901 - root_mean_squared_error: 2.1648 - val_loss: 4.2209 - val_root_mean_squared_error: 2.0406\n",
            "Epoch 6/30\n",
            "21352/21355 [============================>.] - ETA: 0s - loss: 4.6891 - root_mean_squared_error: 2.1645"
          ]
        },
        {
          "name": "stderr",
          "output_type": "stream",
          "text": [
            "WARNING:absl:Found untraced functions such as _update_step_xla, lstm_cell_layer_call_fn, lstm_cell_layer_call_and_return_conditional_losses, lstm_cell_1_layer_call_fn, lstm_cell_1_layer_call_and_return_conditional_losses while saving (showing 5 of 5). These functions will not be directly callable after loading.\n"
          ]
        },
        {
          "name": "stdout",
          "output_type": "stream",
          "text": [
            "\b\b\b\b\b\b\b\b\b\b\b\b\b\b\b\b\b\b\b\b\b\b\b\b\b\b\b\b\b\b\b\b\b\b\b\b\b\b\b\b\b\b\b\b\b\b\b\b\b\b\b\b\b\b\b\b\b\b\b\b\b\b\b\b\b\b\b\b\b\b\b\b\b\b\b\b\b\b\b\b\b\b\b\b\b\b\b\b\b\b\b\b\b\b\b\b\b\b\b\b\b\b\b\r21355/21355 [==============================] - 331s 16ms/step - loss: 4.6891 - root_mean_squared_error: 2.1645 - val_loss: 4.2150 - val_root_mean_squared_error: 2.0393\n",
            "Epoch 7/30\n",
            "21355/21355 [==============================] - 324s 15ms/step - loss: 4.6886 - root_mean_squared_error: 2.1644 - val_loss: 4.2205 - val_root_mean_squared_error: 2.0405\n",
            "Epoch 8/30\n",
            "21355/21355 [==============================] - 322s 15ms/step - loss: 4.6883 - root_mean_squared_error: 2.1644 - val_loss: 4.2223 - val_root_mean_squared_error: 2.0409\n",
            "Epoch 9/30\n",
            "21355/21355 [==============================] - 328s 15ms/step - loss: 4.6885 - root_mean_squared_error: 2.1644 - val_loss: 4.2185 - val_root_mean_squared_error: 2.0401\n",
            "Epoch 10/30\n",
            "21355/21355 [==============================] - 323s 15ms/step - loss: 4.6884 - root_mean_squared_error: 2.1644 - val_loss: 4.2169 - val_root_mean_squared_error: 2.0398\n",
            "Epoch 11/30\n",
            "21355/21355 [==============================] - 320s 15ms/step - loss: 4.6884 - root_mean_squared_error: 2.1644 - val_loss: 4.2242 - val_root_mean_squared_error: 2.0413\n",
            "Epoch 12/30\n",
            "21355/21355 [==============================] - 318s 15ms/step - loss: 4.6884 - root_mean_squared_error: 2.1644 - val_loss: 4.2269 - val_root_mean_squared_error: 2.0420\n",
            "Epoch 13/30\n",
            "21355/21355 [==============================] - 318s 15ms/step - loss: 4.6879 - root_mean_squared_error: 2.1642 - val_loss: 4.2215 - val_root_mean_squared_error: 2.0408\n",
            "Epoch 14/30\n",
            "21355/21355 [==============================] - 316s 15ms/step - loss: 4.6882 - root_mean_squared_error: 2.1643 - val_loss: 4.2207 - val_root_mean_squared_error: 2.0406\n",
            "Epoch 15/30\n",
            "21355/21355 [==============================] - 317s 15ms/step - loss: 4.6884 - root_mean_squared_error: 2.1644 - val_loss: 4.2152 - val_root_mean_squared_error: 2.0393\n",
            "Epoch 16/30\n",
            "21355/21355 [==============================] - 321s 15ms/step - loss: 4.6883 - root_mean_squared_error: 2.1643 - val_loss: 4.2169 - val_root_mean_squared_error: 2.0398\n",
            "Epoch 17/30\n",
            "21355/21355 [==============================] - 318s 15ms/step - loss: 4.6883 - root_mean_squared_error: 2.1643 - val_loss: 4.2208 - val_root_mean_squared_error: 2.0406\n",
            "Epoch 18/30\n",
            "21355/21355 [==============================] - 317s 15ms/step - loss: 4.6882 - root_mean_squared_error: 2.1643 - val_loss: 4.2237 - val_root_mean_squared_error: 2.0412\n",
            "Epoch 19/30\n",
            "21352/21355 [============================>.] - ETA: 0s - loss: 4.6880 - root_mean_squared_error: 2.1643"
          ]
        },
        {
          "name": "stderr",
          "output_type": "stream",
          "text": [
            "WARNING:absl:Found untraced functions such as _update_step_xla, lstm_cell_layer_call_fn, lstm_cell_layer_call_and_return_conditional_losses, lstm_cell_1_layer_call_fn, lstm_cell_1_layer_call_and_return_conditional_losses while saving (showing 5 of 5). These functions will not be directly callable after loading.\n"
          ]
        },
        {
          "name": "stdout",
          "output_type": "stream",
          "text": [
            "\b\b\b\b\b\b\b\b\b\b\b\b\b\b\b\b\b\b\b\b\b\b\b\b\b\b\b\b\b\b\b\b\b\b\b\b\b\b\b\b\b\b\b\b\b\b\b\b\b\b\b\b\b\b\b\b\b\b\b\b\b\b\b\b\b\b\b\b\b\b\b\b\b\b\b\b\b\b\b\b\b\b\b\b\b\b\b\b\b\b\b\b\b\b\b\b\b\b\b\b\b\b\b\r21355/21355 [==============================] - 327s 15ms/step - loss: 4.6880 - root_mean_squared_error: 2.1643 - val_loss: 4.2121 - val_root_mean_squared_error: 2.0386\n",
            "Epoch 20/30\n",
            "21355/21355 [==============================] - ETA: 0s - loss: 4.6883 - root_mean_squared_error: 2.1643"
          ]
        },
        {
          "name": "stderr",
          "output_type": "stream",
          "text": [
            "WARNING:absl:Found untraced functions such as _update_step_xla, lstm_cell_layer_call_fn, lstm_cell_layer_call_and_return_conditional_losses, lstm_cell_1_layer_call_fn, lstm_cell_1_layer_call_and_return_conditional_losses while saving (showing 5 of 5). These functions will not be directly callable after loading.\n"
          ]
        },
        {
          "name": "stdout",
          "output_type": "stream",
          "text": [
            "\b\b\b\b\b\b\b\b\b\b\b\b\b\b\b\b\b\b\b\b\b\b\b\b\b\b\b\b\b\b\b\b\b\b\b\b\b\b\b\b\b\b\b\b\b\b\b\b\b\b\b\b\b\b\b\b\b\b\b\b\b\b\b\b\b\b\b\b\b\b\b\b\b\b\b\b\b\b\b\b\b\b\b\b\b\b\b\b\b\b\b\b\b\b\b\b\b\b\b\b\b\b\b\r21355/21355 [==============================] - 332s 16ms/step - loss: 4.6883 - root_mean_squared_error: 2.1643 - val_loss: 4.2103 - val_root_mean_squared_error: 2.0382\n",
            "Epoch 21/30\n",
            "21355/21355 [==============================] - 322s 15ms/step - loss: 4.6885 - root_mean_squared_error: 2.1644 - val_loss: 4.2136 - val_root_mean_squared_error: 2.0390\n",
            "Epoch 22/30\n",
            "21355/21355 [==============================] - ETA: 0s - loss: 4.6882 - root_mean_squared_error: 2.1643"
          ]
        },
        {
          "name": "stderr",
          "output_type": "stream",
          "text": [
            "WARNING:absl:Found untraced functions such as _update_step_xla, lstm_cell_layer_call_fn, lstm_cell_layer_call_and_return_conditional_losses, lstm_cell_1_layer_call_fn, lstm_cell_1_layer_call_and_return_conditional_losses while saving (showing 5 of 5). These functions will not be directly callable after loading.\n"
          ]
        },
        {
          "name": "stdout",
          "output_type": "stream",
          "text": [
            "\b\b\b\b\b\b\b\b\b\b\b\b\b\b\b\b\b\b\b\b\b\b\b\b\b\b\b\b\b\b\b\b\b\b\b\b\b\b\b\b\b\b\b\b\b\b\b\b\b\b\b\b\b\b\b\b\b\b\b\b\b\b\b\b\b\b\b\b\b\b\b\b\b\b\b\b\b\b\b\b\b\b\b\b\b\b\b\b\b\b\b\b\b\b\b\b\b\b\b\b\b\b\b\r21355/21355 [==============================] - 354s 17ms/step - loss: 4.6882 - root_mean_squared_error: 2.1643 - val_loss: 4.2103 - val_root_mean_squared_error: 2.0382\n",
            "Epoch 23/30\n",
            "21355/21355 [==============================] - 317s 15ms/step - loss: 4.6884 - root_mean_squared_error: 2.1644 - val_loss: 4.2355 - val_root_mean_squared_error: 2.0439\n",
            "Epoch 24/30\n",
            "21355/21355 [==============================] - 318s 15ms/step - loss: 4.6883 - root_mean_squared_error: 2.1643 - val_loss: 4.2209 - val_root_mean_squared_error: 2.0406\n",
            "Epoch 25/30\n",
            "21355/21355 [==============================] - 316s 15ms/step - loss: 4.6881 - root_mean_squared_error: 2.1643 - val_loss: 4.2146 - val_root_mean_squared_error: 2.0393\n",
            "Epoch 26/30\n",
            "21355/21355 [==============================] - 319s 15ms/step - loss: 4.6883 - root_mean_squared_error: 2.1643 - val_loss: 4.2135 - val_root_mean_squared_error: 2.0389\n",
            "Epoch 27/30\n",
            "21355/21355 [==============================] - 318s 15ms/step - loss: 4.6882 - root_mean_squared_error: 2.1643 - val_loss: 4.2151 - val_root_mean_squared_error: 2.0393\n",
            "Epoch 28/30\n",
            "21355/21355 [==============================] - 317s 15ms/step - loss: 4.6882 - root_mean_squared_error: 2.1643 - val_loss: 4.2109 - val_root_mean_squared_error: 2.0383\n",
            "Epoch 29/30\n",
            "21355/21355 [==============================] - 320s 15ms/step - loss: 4.6874 - root_mean_squared_error: 2.1641 - val_loss: 4.2140 - val_root_mean_squared_error: 2.0390\n",
            "Epoch 30/30\n",
            "21355/21355 [==============================] - 320s 15ms/step - loss: 4.6868 - root_mean_squared_error: 2.1640 - val_loss: 4.2201 - val_root_mean_squared_error: 2.0404\n"
          ]
        }
      ],
      "source": [
        "history = run_lstm_model(lstm_model, train_daily_x, train_daily_y, epochs=30, batch_size=500, verbose=1, callbacks=[cp])"
      ]
    },
    {
      "cell_type": "code",
      "execution_count": null,
      "metadata": {
        "id": "R2JI0jEVrY-7"
      },
      "outputs": [],
      "source": [
        "from keras.models import load_model"
      ]
    },
    {
      "cell_type": "code",
      "execution_count": null,
      "metadata": {
        "id": "8T1_iVPAsgMv"
      },
      "outputs": [],
      "source": [
        "lstm_model.save('lstm_model1.h5')"
      ]
    },
    {
      "cell_type": "code",
      "execution_count": null,
      "metadata": {
        "colab": {
          "base_uri": "https://localhost:8080/",
          "height": 184
        },
        "id": "QdtCfovNtVVF",
        "outputId": "f276f647-9508-464c-8ff4-43e495d80bf7"
      },
      "outputs": [
        {
          "ename": "NameError",
          "evalue": "ignored",
          "output_type": "error",
          "traceback": [
            "\u001b[0;31m---------------------------------------------------------------------------\u001b[0m",
            "\u001b[0;31mNameError\u001b[0m                                 Traceback (most recent call last)",
            "\u001b[0;32m<ipython-input-15-fe54210424ea>\u001b[0m in \u001b[0;36m<cell line: 1>\u001b[0;34m()\u001b[0m\n\u001b[0;32m----> 1\u001b[0;31m \u001b[0mloss\u001b[0m \u001b[0;34m=\u001b[0m \u001b[0mhistory\u001b[0m\u001b[0;34m.\u001b[0m\u001b[0mhistory\u001b[0m\u001b[0;34m\u001b[0m\u001b[0;34m\u001b[0m\u001b[0m\n\u001b[0m\u001b[1;32m      2\u001b[0m \u001b[0mloss\u001b[0m\u001b[0;34m.\u001b[0m\u001b[0mkeys\u001b[0m\u001b[0;34m(\u001b[0m\u001b[0;34m)\u001b[0m\u001b[0;34m\u001b[0m\u001b[0;34m\u001b[0m\u001b[0m\n",
            "\u001b[0;31mNameError\u001b[0m: name 'history' is not defined"
          ]
        }
      ],
      "source": [
        "loss = history.history\n",
        "loss.keys()"
      ]
    },
    {
      "cell_type": "code",
      "execution_count": null,
      "metadata": {
        "id": "E2kIH0fId1wn"
      },
      "outputs": [],
      "source": [
        "plt.plot(history.history['loss'],label='Training loss')\n",
        "plt.plot(history.history['val_loss'],label='Validation Loss')\n",
        "plt.legend()"
      ]
    },
    {
      "cell_type": "code",
      "execution_count": null,
      "metadata": {
        "colab": {
          "base_uri": "https://localhost:8080/",
          "height": 472
        },
        "id": "gLE9fh0DtZTu",
        "outputId": "93e133a0-cc38-456b-801c-78d9ada082fc"
      },
      "outputs": [
        {
          "data": {
            "image/png": "[encoded data removed]",
            "text/plain": [
              "<Figure size 640x480 with 1 Axes>"
            ]
          },
          "metadata": {},
          "output_type": "display_data"
        }
      ],
      "source": [
        "def plot_loss_and_rmse(history):\n",
        "    loss = history.history['loss']\n",
        "    val_loss = history.history['val_loss']\n",
        "    rmse = history.history['root_mean_squared_error']\n",
        "    val_rmse = history.history['val_root_mean_squared_error']\n",
        "\n",
        "    epochs = range(1, len(loss) + 1)\n",
        "\n",
        "    plt.figure()\n",
        "    plt.plot(epochs, loss, 'bo', label='Training Loss')\n",
        "    plt.plot(epochs, val_loss, 'b', label='Validation Loss')\n",
        "    plt.plot(epochs, rmse, 'ro', label='Training RMSE')\n",
        "    plt.plot(epochs, val_rmse, 'r', label='Validation RMSE')\n",
        "    plt.title('Training and Validation Loss & RMSE')\n",
        "    plt.xlabel('Epochs')\n",
        "    plt.ylabel('Loss / RMSE')\n",
        "    plt.legend()\n",
        "    plt.show()\n",
        "\n",
        "# Assuming you have trained the model and have the 'history' object\n",
        "plot_loss_and_rmse(history)"
      ]
    },
    {
      "cell_type": "code",
      "execution_count": null,
      "metadata": {
        "id": "k0T9ipYq3XHR"
      },
      "outputs": [],
      "source": [
        "load_model1 = load_model('lstm_model1.h5', custom_objects={'root_mean_squared_error': root_mean_squared_error})"
      ]
    },
    {
      "cell_type": "code",
      "execution_count": null,
      "metadata": {
        "colab": {
          "base_uri": "https://localhost:8080/"
        },
        "id": "YFKztM074RS-",
        "outputId": "4170bfc2-9ec1-4f8f-eeac-7d8fb8aa6e36"
      },
      "outputs": [
        {
          "name": "stdout",
          "output_type": "stream",
          "text": [
            "Model: \"sequential\"\n",
            "_________________________________________________________________\n",
            " Layer (type)                Output Shape              Param #   \n",
            "=================================================================\n",
            " lstm (LSTM)                 (None, 1, 128)            81920     \n",
            "                                                                 \n",
            " dropout (Dropout)           (None, 1, 128)            0         \n",
            "                                                                 \n",
            " batch_normalization (BatchN  (None, 1, 128)           512       \n",
            " ormalization)                                                   \n",
            "                                                                 \n",
            " lstm_1 (LSTM)               (None, 128)               131584    \n",
            "                                                                 \n",
            " batch_normalization_1 (Batc  (None, 128)              512       \n",
            " hNormalization)                                                 \n",
            "                                                                 \n",
            " dropout_1 (Dropout)         (None, 128)               0         \n",
            "                                                                 \n",
            " dense (Dense)               (None, 1)                 129       \n",
            "                                                                 \n",
            "=================================================================\n",
            "Total params: 214,657\n",
            "Trainable params: 214,145\n",
            "Non-trainable params: 512\n",
            "_________________________________________________________________\n"
          ]
        }
      ],
      "source": [
        "load_model1.summary()"
      ]
    },
    {
      "cell_type": "markdown",
      "metadata": {
        "id": "GxnJyJClFVJ-"
      },
      "source": [
        "# LSTM 2"
      ]
    },
    {
      "cell_type": "code",
      "source": [
        "log_dir = './Models/'\n",
        "os.makedirs(log_dir, exist_ok=True)  # Create the directory if it doesn't exist\n",
        "\n",
        "log_file = os.path.join(log_dir, 'LSTM_model2.log')"
      ],
      "metadata": {
        "id": "v_ngrcHiPqgD"
      },
      "execution_count": null,
      "outputs": []
    },
    {
      "cell_type": "code",
      "execution_count": null,
      "metadata": {
        "id": "WNIfIj2JEvN_"
      },
      "outputs": [],
      "source": [
        "model2_log = tf.keras.callbacks.CSVLogger(log_file)"
      ]
    },
    {
      "cell_type": "code",
      "source": [
        "tensorboard_callback_2 = tf.keras.callbacks.TensorBoard(log_dir='./Models/LSTM_2')"
      ],
      "metadata": {
        "id": "aZSAS7e6OnXh"
      },
      "execution_count": null,
      "outputs": []
    },
    {
      "cell_type": "code",
      "execution_count": null,
      "metadata": {
        "colab": {
          "base_uri": "https://localhost:8080/"
        },
        "id": "zjvUiAFUFUEJ",
        "outputId": "f7c261aa-208b-4835-f467-e0d567cdc029"
      },
      "outputs": [
        {
          "output_type": "stream",
          "name": "stdout",
          "text": [
            "Model: \"sequential_6\"\n",
            "_________________________________________________________________\n",
            " Layer (type)                Output Shape              Param #   \n",
            "=================================================================\n",
            " lstm_12 (LSTM)              (None, 1, 128)            81920     \n",
            "                                                                 \n",
            " batch_normalization_18 (Bat  (None, 1, 128)           512       \n",
            " chNormalization)                                                \n",
            "                                                                 \n",
            " dropout_18 (Dropout)        (None, 1, 128)            0         \n",
            "                                                                 \n",
            " lstm_13 (LSTM)              (None, 64)                49408     \n",
            "                                                                 \n",
            " batch_normalization_19 (Bat  (None, 64)               256       \n",
            " chNormalization)                                                \n",
            "                                                                 \n",
            " dropout_19 (Dropout)        (None, 64)                0         \n",
            "                                                                 \n",
            " dense_12 (Dense)            (None, 10)                650       \n",
            "                                                                 \n",
            " batch_normalization_20 (Bat  (None, 10)               40        \n",
            " chNormalization)                                                \n",
            "                                                                 \n",
            " dropout_20 (Dropout)        (None, 10)                0         \n",
            "                                                                 \n",
            " dense_13 (Dense)            (None, 1)                 11        \n",
            "                                                                 \n",
            "=================================================================\n",
            "Total params: 132,797\n",
            "Trainable params: 132,393\n",
            "Non-trainable params: 404\n",
            "_________________________________________________________________\n"
          ]
        }
      ],
      "source": [
        "lstm_model2 = Sequential()\n",
        "\n",
        "lstm_model2.add(LSTM(128, return_sequences=True))\n",
        "lstm_model2.add(BatchNormalization())\n",
        "lstm_model2.add(Dropout(0.2))\n",
        "\n",
        "lstm_model2.add(LSTM(64, return_sequences=False))\n",
        "lstm_model2.add(BatchNormalization())\n",
        "lstm_model2.add(Dropout(0.2))\n",
        "\n",
        "lstm_model2.add(Dense(10, activation= 'relu'))\n",
        "lstm_model2.add(BatchNormalization())\n",
        "lstm_model2.add(Dropout(0.2))\n",
        "lstm_model2.add(Dense(1, activation='linear'))\n",
        "\n",
        "lstm_model2.build(input_shape=(None, 1, 31))\n",
        "lstm_model2.summary()"
      ]
    },
    {
      "cell_type": "code",
      "source": [
        "lstm_model2.compile(loss='mse', optimizer=Adam(learning_rate=0.0001), metrics=[RootMeanSquaredError()])"
      ],
      "metadata": {
        "id": "MKUDJ7qFMIf_"
      },
      "execution_count": null,
      "outputs": []
    },
    {
      "cell_type": "code",
      "source": [
        "cp2 = ModelCheckpoint('LSTM_MODEL2/', save_best_only=True)"
      ],
      "metadata": {
        "id": "lSP0TuFsNqqU"
      },
      "execution_count": null,
      "outputs": []
    },
    {
      "cell_type": "markdown",
      "source": [
        "## Model Training"
      ],
      "metadata": {
        "id": "0HwFidwHbiyv"
      }
    },
    {
      "cell_type": "code",
      "source": [
        "history2 = lstm_model2.fit(train_daily_x, train_daily_y,\n",
        "                    batch_size=500,\n",
        "                    epochs=30,\n",
        "                    validation_split=0.2,\n",
        "                    verbose=1,\n",
        "                    validation_data=(x_val, y_val),\n",
        "                     callbacks = [cp2, model2_log, tensorboard_callback_2])"
      ],
      "metadata": {
        "colab": {
          "base_uri": "https://localhost:8080/"
        },
        "id": "4NJWKyrvMIQe",
        "outputId": "9896e05d-2111-4cfc-d686-e2874eb1cc37"
      },
      "execution_count": null,
      "outputs": [
        {
          "output_type": "stream",
          "name": "stdout",
          "text": [
            "Epoch 1/30\n",
            "13667/13668 [============================>.] - ETA: 0s - loss: 7.1069 - root_mean_squared_error: 2.6659"
          ]
        },
        {
          "output_type": "stream",
          "name": "stderr",
          "text": [
            "WARNING:absl:Found untraced functions such as lstm_cell_12_layer_call_fn, lstm_cell_12_layer_call_and_return_conditional_losses, lstm_cell_13_layer_call_fn, lstm_cell_13_layer_call_and_return_conditional_losses while saving (showing 4 of 4). These functions will not be directly callable after loading.\n"
          ]
        },
        {
          "output_type": "stream",
          "name": "stdout",
          "text": [
            "\b\b\b\b\b\b\b\b\b\b\b\b\b\b\b\b\b\b\b\b\b\b\b\b\b\b\b\b\b\b\b\b\b\b\b\b\b\b\b\b\b\b\b\b\b\b\b\b\b\b\b\b\b\b\b\b\b\b\b\b\b\b\b\b\b\b\b\b\b\b\b\b\b\b\b\b\b\b\b\b\b\b\b\b\b\b\b\b\b\b\b\b\b\b\b\b\b\b\b\b\b\b\b\r13668/13668 [==============================] - 219s 16ms/step - loss: 7.1069 - root_mean_squared_error: 2.6659 - val_loss: 3.5430 - val_root_mean_squared_error: 1.8823\n",
            "Epoch 2/30\n",
            "13668/13668 [==============================] - 159s 12ms/step - loss: 4.1567 - root_mean_squared_error: 2.0388 - val_loss: 3.5782 - val_root_mean_squared_error: 1.8916\n",
            "Epoch 3/30\n",
            "13668/13668 [==============================] - 153s 11ms/step - loss: 4.1190 - root_mean_squared_error: 2.0295 - val_loss: 4.2425 - val_root_mean_squared_error: 2.0597\n",
            "Epoch 4/30\n",
            "13668/13668 [==============================] - 152s 11ms/step - loss: 4.0622 - root_mean_squared_error: 2.0155 - val_loss: 3.7183 - val_root_mean_squared_error: 1.9283\n",
            "Epoch 5/30\n",
            "13668/13668 [==============================] - 152s 11ms/step - loss: 4.0643 - root_mean_squared_error: 2.0160 - val_loss: 3.7940 - val_root_mean_squared_error: 1.9478\n",
            "Epoch 6/30\n",
            "13668/13668 [==============================] - 151s 11ms/step - loss: 4.0486 - root_mean_squared_error: 2.0121 - val_loss: 3.8480 - val_root_mean_squared_error: 1.9616\n",
            "Epoch 7/30\n",
            "13668/13668 [==============================] - 150s 11ms/step - loss: 4.0373 - root_mean_squared_error: 2.0093 - val_loss: 3.7063 - val_root_mean_squared_error: 1.9252\n",
            "Epoch 8/30\n",
            "13668/13668 [==============================] - 150s 11ms/step - loss: 4.0847 - root_mean_squared_error: 2.0211 - val_loss: 3.8976 - val_root_mean_squared_error: 1.9742\n",
            "Epoch 9/30\n",
            "13668/13668 [==============================] - 151s 11ms/step - loss: 3.9585 - root_mean_squared_error: 1.9896 - val_loss: 3.6897 - val_root_mean_squared_error: 1.9209\n",
            "Epoch 10/30\n",
            "13668/13668 [==============================] - 150s 11ms/step - loss: 3.9596 - root_mean_squared_error: 1.9899 - val_loss: 3.8173 - val_root_mean_squared_error: 1.9538\n",
            "Epoch 11/30\n",
            "13668/13668 [==============================] - 150s 11ms/step - loss: 3.9966 - root_mean_squared_error: 1.9992 - val_loss: 3.7753 - val_root_mean_squared_error: 1.9430\n",
            "Epoch 12/30\n",
            "13668/13668 [==============================] - 150s 11ms/step - loss: 3.8918 - root_mean_squared_error: 1.9728 - val_loss: 3.7015 - val_root_mean_squared_error: 1.9239\n",
            "Epoch 13/30\n",
            "13668/13668 [==============================] - 150s 11ms/step - loss: 3.8841 - root_mean_squared_error: 1.9708 - val_loss: 3.7390 - val_root_mean_squared_error: 1.9336\n",
            "Epoch 14/30\n",
            "13668/13668 [==============================] - 150s 11ms/step - loss: 3.9816 - root_mean_squared_error: 1.9954 - val_loss: 3.8149 - val_root_mean_squared_error: 1.9532\n",
            "Epoch 15/30\n",
            "13668/13668 [==============================] - 151s 11ms/step - loss: 3.9779 - root_mean_squared_error: 1.9945 - val_loss: 3.7857 - val_root_mean_squared_error: 1.9457\n",
            "Epoch 16/30\n",
            "13668/13668 [==============================] - 149s 11ms/step - loss: 3.9685 - root_mean_squared_error: 1.9921 - val_loss: 3.7882 - val_root_mean_squared_error: 1.9463\n",
            "Epoch 17/30\n",
            "13668/13668 [==============================] - 149s 11ms/step - loss: 3.9704 - root_mean_squared_error: 1.9926 - val_loss: 3.8116 - val_root_mean_squared_error: 1.9523\n",
            "Epoch 18/30\n",
            "13668/13668 [==============================] - 149s 11ms/step - loss: 3.9656 - root_mean_squared_error: 1.9914 - val_loss: 3.8153 - val_root_mean_squared_error: 1.9533\n",
            "Epoch 19/30\n",
            "13668/13668 [==============================] - 149s 11ms/step - loss: 3.9660 - root_mean_squared_error: 1.9915 - val_loss: 3.8080 - val_root_mean_squared_error: 1.9514\n",
            "Epoch 20/30\n",
            "13668/13668 [==============================] - 149s 11ms/step - loss: 3.9672 - root_mean_squared_error: 1.9918 - val_loss: 3.8207 - val_root_mean_squared_error: 1.9547\n",
            "Epoch 21/30\n",
            "13668/13668 [==============================] - 149s 11ms/step - loss: 3.9583 - root_mean_squared_error: 1.9895 - val_loss: 3.8295 - val_root_mean_squared_error: 1.9569\n",
            "Epoch 22/30\n",
            "13668/13668 [==============================] - 149s 11ms/step - loss: 3.9562 - root_mean_squared_error: 1.9890 - val_loss: 3.9880 - val_root_mean_squared_error: 1.9970\n",
            "Epoch 23/30\n",
            "13668/13668 [==============================] - 149s 11ms/step - loss: 3.9641 - root_mean_squared_error: 1.9910 - val_loss: 3.8129 - val_root_mean_squared_error: 1.9527\n",
            "Epoch 24/30\n",
            "13668/13668 [==============================] - 149s 11ms/step - loss: 3.9647 - root_mean_squared_error: 1.9912 - val_loss: 3.7524 - val_root_mean_squared_error: 1.9371\n",
            "Epoch 25/30\n",
            "13668/13668 [==============================] - 149s 11ms/step - loss: 3.9577 - root_mean_squared_error: 1.9894 - val_loss: 3.8133 - val_root_mean_squared_error: 1.9528\n",
            "Epoch 26/30\n",
            "13668/13668 [==============================] - 148s 11ms/step - loss: 3.9653 - root_mean_squared_error: 1.9913 - val_loss: 3.8329 - val_root_mean_squared_error: 1.9578\n",
            "Epoch 27/30\n",
            "13668/13668 [==============================] - 149s 11ms/step - loss: 3.9540 - root_mean_squared_error: 1.9885 - val_loss: 3.8476 - val_root_mean_squared_error: 1.9615\n",
            "Epoch 28/30\n",
            "13668/13668 [==============================] - 149s 11ms/step - loss: 3.8544 - root_mean_squared_error: 1.9633 - val_loss: 3.7721 - val_root_mean_squared_error: 1.9422\n",
            "Epoch 29/30\n",
            "13668/13668 [==============================] - 149s 11ms/step - loss: 3.7950 - root_mean_squared_error: 1.9481 - val_loss: 3.6755 - val_root_mean_squared_error: 1.9172\n",
            "Epoch 30/30\n",
            "13668/13668 [==============================] - 149s 11ms/step - loss: 3.7992 - root_mean_squared_error: 1.9492 - val_loss: 3.8642 - val_root_mean_squared_error: 1.9658\n"
          ]
        }
      ]
    },
    {
      "cell_type": "markdown",
      "source": [
        "## Saving Model"
      ],
      "metadata": {
        "id": "u8Fk45CvbaSU"
      }
    },
    {
      "cell_type": "code",
      "source": [
        "# Already saved in my drive, so I do not need to run it again.\n",
        "# lstm_model2.save('./Models/lstm_model2.h5')"
      ],
      "metadata": {
        "id": "qAl-6FOgqGmN"
      },
      "execution_count": null,
      "outputs": []
    },
    {
      "cell_type": "markdown",
      "source": [
        "# LSTM 3"
      ],
      "metadata": {
        "id": "yTJQv30t30hu"
      }
    },
    {
      "cell_type": "code",
      "source": [
        "log_dir = './Models/'\n",
        "os.makedirs(log_dir, exist_ok=True)  # Create the directory if it doesn't exist\n",
        "\n",
        "log_file = os.path.join(log_dir, 'LSTM_model3.log')"
      ],
      "metadata": {
        "id": "pcfgA-FT30IO"
      },
      "execution_count": null,
      "outputs": []
    },
    {
      "cell_type": "code",
      "source": [
        "model3_log = tf.keras.callbacks.CSVLogger(log_file)"
      ],
      "metadata": {
        "id": "zZN_C7OM4I3n"
      },
      "execution_count": null,
      "outputs": []
    },
    {
      "cell_type": "code",
      "source": [
        "tensorboard_callback_3 = tf.keras.callbacks.TensorBoard(log_dir='./Models/LSTM_3')"
      ],
      "metadata": {
        "id": "Lm4S92O_4XID"
      },
      "execution_count": null,
      "outputs": []
    },
    {
      "cell_type": "code",
      "source": [
        "lstm_model3 = Sequential()\n",
        "\n",
        "lstm_model3.add(LSTM(128, return_sequences=True))\n",
        "lstm_model3.add(BatchNormalization())\n",
        "lstm_model3.add(Dropout(0.2))\n",
        "\n",
        "lstm_model3.add(LSTM(64, return_sequences=False))\n",
        "lstm_model3.add(BatchNormalization())\n",
        "lstm_model3.add(Dropout(0.2))\n",
        "\n",
        "lstm_model3.add(Dense(8, activation= 'relu'))\n",
        "lstm_model3.add(BatchNormalization())\n",
        "lstm_model3.add(Dropout(0.2))\n",
        "lstm_model3.add(Dense(1, activation='linear'))\n",
        "\n",
        "lstm_model3.build(input_shape=(None, 1, 31))\n",
        "lstm_model3.summary()"
      ],
      "metadata": {
        "colab": {
          "base_uri": "https://localhost:8080/"
        },
        "id": "kPrUnYz_4cQm",
        "outputId": "cb87067b-1512-4487-b830-481aeb8d9fb7"
      },
      "execution_count": null,
      "outputs": [
        {
          "output_type": "stream",
          "name": "stdout",
          "text": [
            "Model: \"sequential_1\"\n",
            "_________________________________________________________________\n",
            " Layer (type)                Output Shape              Param #   \n",
            "=================================================================\n",
            " lstm_2 (LSTM)               (None, 1, 128)            81920     \n",
            "                                                                 \n",
            " batch_normalization_3 (Batc  (None, 1, 128)           512       \n",
            " hNormalization)                                                 \n",
            "                                                                 \n",
            " dropout_3 (Dropout)         (None, 1, 128)            0         \n",
            "                                                                 \n",
            " lstm_3 (LSTM)               (None, 64)                49408     \n",
            "                                                                 \n",
            " batch_normalization_4 (Batc  (None, 64)               256       \n",
            " hNormalization)                                                 \n",
            "                                                                 \n",
            " dropout_4 (Dropout)         (None, 64)                0         \n",
            "                                                                 \n",
            " dense_2 (Dense)             (None, 8)                 520       \n",
            "                                                                 \n",
            " batch_normalization_5 (Batc  (None, 8)                32        \n",
            " hNormalization)                                                 \n",
            "                                                                 \n",
            " dropout_5 (Dropout)         (None, 8)                 0         \n",
            "                                                                 \n",
            " dense_3 (Dense)             (None, 1)                 9         \n",
            "                                                                 \n",
            "=================================================================\n",
            "Total params: 132,657\n",
            "Trainable params: 132,257\n",
            "Non-trainable params: 400\n",
            "_________________________________________________________________\n"
          ]
        }
      ]
    },
    {
      "cell_type": "code",
      "source": [
        "lstm_model3.compile(loss='mse', optimizer=Adam(learning_rate=0.0001), metrics=[RootMeanSquaredError()])"
      ],
      "metadata": {
        "id": "zm3qJ47N4mv4"
      },
      "execution_count": null,
      "outputs": []
    },
    {
      "cell_type": "code",
      "source": [
        "cp3 = ModelCheckpoint('LSTM_MODEL3/', save_best_only=True)"
      ],
      "metadata": {
        "id": "adGVNPWg4rQK"
      },
      "execution_count": null,
      "outputs": []
    },
    {
      "cell_type": "markdown",
      "source": [
        "## Model training"
      ],
      "metadata": {
        "id": "fJtg84f8eGll"
      }
    },
    {
      "cell_type": "code",
      "source": [
        "# It was previously named history2 (by mistake), so I renamed it as history 3 after completing the training\n",
        "history3 = lstm_model3.fit(train_x_scaled_3D, train_daily_y, batch_size=500, epochs=15, validation_split=0.2, verbose=1, validation_data=(x_val, y_val), callbacks = [cp3, model3_log, tensorboard_callback_3])"
      ],
      "metadata": {
        "colab": {
          "base_uri": "https://localhost:8080/"
        },
        "id": "ctys8-4G4uI6",
        "outputId": "d83dc67d-80a0-489d-9a2e-a6258c7cde34"
      },
      "execution_count": null,
      "outputs": [
        {
          "output_type": "stream",
          "name": "stdout",
          "text": [
            "Epoch 1/15\n",
            "21354/21355 [============================>.] - ETA: 0s - loss: 5.2654 - root_mean_squared_error: 2.2946"
          ]
        },
        {
          "output_type": "stream",
          "name": "stderr",
          "text": [
            "WARNING:absl:Found untraced functions such as lstm_cell_2_layer_call_fn, lstm_cell_2_layer_call_and_return_conditional_losses, lstm_cell_3_layer_call_fn, lstm_cell_3_layer_call_and_return_conditional_losses while saving (showing 4 of 4). These functions will not be directly callable after loading.\n"
          ]
        },
        {
          "output_type": "stream",
          "name": "stdout",
          "text": [
            "\b\b\b\b\b\b\b\b\b\b\b\b\b\b\b\b\b\b\b\b\b\b\b\b\b\b\b\b\b\b\b\b\b\b\b\b\b\b\b\b\b\b\b\b\b\b\b\b\b\b\b\b\b\b\b\b\b\b\b\b\b\b\b\b\b\b\b\b\b\b\b\b\b\b\b\b\b\b\b\b\b\b\b\b\b\b\b\b\b\b\b\b\b\b\b\b\b\b\b\b\b\b\b\r21355/21355 [==============================] - 296s 14ms/step - loss: 5.2653 - root_mean_squared_error: 2.2946 - val_loss: 2.5608 - val_root_mean_squared_error: 1.6002\n",
            "Epoch 2/15\n",
            "21354/21355 [============================>.] - ETA: 0s - loss: 2.7488 - root_mean_squared_error: 1.6580"
          ]
        },
        {
          "output_type": "stream",
          "name": "stderr",
          "text": [
            "WARNING:absl:Found untraced functions such as lstm_cell_2_layer_call_fn, lstm_cell_2_layer_call_and_return_conditional_losses, lstm_cell_3_layer_call_fn, lstm_cell_3_layer_call_and_return_conditional_losses while saving (showing 4 of 4). These functions will not be directly callable after loading.\n"
          ]
        },
        {
          "output_type": "stream",
          "name": "stdout",
          "text": [
            "\b\b\b\b\b\b\b\b\b\b\b\b\b\b\b\b\b\b\b\b\b\b\b\b\b\b\b\b\b\b\b\b\b\b\b\b\b\b\b\b\b\b\b\b\b\b\b\b\b\b\b\b\b\b\b\b\b\b\b\b\b\b\b\b\b\b\b\b\b\b\b\b\b\b\b\b\b\b\b\b\b\b\b\b\b\b\b\b\b\b\b\b\b\b\b\b\b\b\b\b\b\b\b\r21355/21355 [==============================] - 295s 14ms/step - loss: 2.7488 - root_mean_squared_error: 1.6580 - val_loss: 2.4116 - val_root_mean_squared_error: 1.5529\n",
            "Epoch 3/15\n",
            "21355/21355 [==============================] - ETA: 0s - loss: 2.5328 - root_mean_squared_error: 1.5915"
          ]
        },
        {
          "output_type": "stream",
          "name": "stderr",
          "text": [
            "WARNING:absl:Found untraced functions such as lstm_cell_2_layer_call_fn, lstm_cell_2_layer_call_and_return_conditional_losses, lstm_cell_3_layer_call_fn, lstm_cell_3_layer_call_and_return_conditional_losses while saving (showing 4 of 4). These functions will not be directly callable after loading.\n"
          ]
        },
        {
          "output_type": "stream",
          "name": "stdout",
          "text": [
            "\b\b\b\b\b\b\b\b\b\b\b\b\b\b\b\b\b\b\b\b\b\b\b\b\b\b\b\b\b\b\b\b\b\b\b\b\b\b\b\b\b\b\b\b\b\b\b\b\b\b\b\b\b\b\b\b\b\b\b\b\b\b\b\b\b\b\b\b\b\b\b\b\b\b\b\b\b\b\b\b\b\b\b\b\b\b\b\b\b\b\b\b\b\b\b\b\b\b\b\b\b\b\b\r21355/21355 [==============================] - 287s 13ms/step - loss: 2.5328 - root_mean_squared_error: 1.5915 - val_loss: 2.3891 - val_root_mean_squared_error: 1.5457\n",
            "Epoch 4/15\n",
            "21355/21355 [==============================] - ETA: 0s - loss: 2.4139 - root_mean_squared_error: 1.5537"
          ]
        },
        {
          "output_type": "stream",
          "name": "stderr",
          "text": [
            "WARNING:absl:Found untraced functions such as lstm_cell_2_layer_call_fn, lstm_cell_2_layer_call_and_return_conditional_losses, lstm_cell_3_layer_call_fn, lstm_cell_3_layer_call_and_return_conditional_losses while saving (showing 4 of 4). These functions will not be directly callable after loading.\n"
          ]
        },
        {
          "output_type": "stream",
          "name": "stdout",
          "text": [
            "\b\b\b\b\b\b\b\b\b\b\b\b\b\b\b\b\b\b\b\b\b\b\b\b\b\b\b\b\b\b\b\b\b\b\b\b\b\b\b\b\b\b\b\b\b\b\b\b\b\b\b\b\b\b\b\b\b\b\b\b\b\b\b\b\b\b\b\b\b\b\b\b\b\b\b\b\b\b\b\b\b\b\b\b\b\b\b\b\b\b\b\b\b\b\b\b\b\b\b\b\b\b\b\r21355/21355 [==============================] - 285s 13ms/step - loss: 2.4139 - root_mean_squared_error: 1.5537 - val_loss: 2.3011 - val_root_mean_squared_error: 1.5169\n",
            "Epoch 5/15\n",
            "21351/21355 [============================>.] - ETA: 0s - loss: 2.3227 - root_mean_squared_error: 1.5240"
          ]
        },
        {
          "output_type": "stream",
          "name": "stderr",
          "text": [
            "WARNING:absl:Found untraced functions such as lstm_cell_2_layer_call_fn, lstm_cell_2_layer_call_and_return_conditional_losses, lstm_cell_3_layer_call_fn, lstm_cell_3_layer_call_and_return_conditional_losses while saving (showing 4 of 4). These functions will not be directly callable after loading.\n"
          ]
        },
        {
          "output_type": "stream",
          "name": "stdout",
          "text": [
            "\b\b\b\b\b\b\b\b\b\b\b\b\b\b\b\b\b\b\b\b\b\b\b\b\b\b\b\b\b\b\b\b\b\b\b\b\b\b\b\b\b\b\b\b\b\b\b\b\b\b\b\b\b\b\b\b\b\b\b\b\b\b\b\b\b\b\b\b\b\b\b\b\b\b\b\b\b\b\b\b\b\b\b\b\b\b\b\b\b\b\b\b\b\b\b\b\b\b\b\b\b\b\b\r21355/21355 [==============================] - 283s 13ms/step - loss: 2.3226 - root_mean_squared_error: 1.5240 - val_loss: 2.2072 - val_root_mean_squared_error: 1.4857\n",
            "Epoch 6/15\n",
            "21353/21355 [============================>.] - ETA: 0s - loss: 2.2540 - root_mean_squared_error: 1.5013"
          ]
        },
        {
          "output_type": "stream",
          "name": "stderr",
          "text": [
            "WARNING:absl:Found untraced functions such as lstm_cell_2_layer_call_fn, lstm_cell_2_layer_call_and_return_conditional_losses, lstm_cell_3_layer_call_fn, lstm_cell_3_layer_call_and_return_conditional_losses while saving (showing 4 of 4). These functions will not be directly callable after loading.\n"
          ]
        },
        {
          "output_type": "stream",
          "name": "stdout",
          "text": [
            "\b\b\b\b\b\b\b\b\b\b\b\b\b\b\b\b\b\b\b\b\b\b\b\b\b\b\b\b\b\b\b\b\b\b\b\b\b\b\b\b\b\b\b\b\b\b\b\b\b\b\b\b\b\b\b\b\b\b\b\b\b\b\b\b\b\b\b\b\b\b\b\b\b\b\b\b\b\b\b\b\b\b\b\b\b\b\b\b\b\b\b\b\b\b\b\b\b\b\b\b\b\b\b\r21355/21355 [==============================] - 283s 13ms/step - loss: 2.2540 - root_mean_squared_error: 1.5013 - val_loss: 2.1911 - val_root_mean_squared_error: 1.4802\n",
            "Epoch 7/15\n",
            "21352/21355 [============================>.] - ETA: 0s - loss: 2.2035 - root_mean_squared_error: 1.4844"
          ]
        },
        {
          "output_type": "stream",
          "name": "stderr",
          "text": [
            "WARNING:absl:Found untraced functions such as lstm_cell_2_layer_call_fn, lstm_cell_2_layer_call_and_return_conditional_losses, lstm_cell_3_layer_call_fn, lstm_cell_3_layer_call_and_return_conditional_losses while saving (showing 4 of 4). These functions will not be directly callable after loading.\n"
          ]
        },
        {
          "output_type": "stream",
          "name": "stdout",
          "text": [
            "\b\b\b\b\b\b\b\b\b\b\b\b\b\b\b\b\b\b\b\b\b\b\b\b\b\b\b\b\b\b\b\b\b\b\b\b\b\b\b\b\b\b\b\b\b\b\b\b\b\b\b\b\b\b\b\b\b\b\b\b\b\b\b\b\b\b\b\b\b\b\b\b\b\b\b\b\b\b\b\b\b\b\b\b\b\b\b\b\b\b\b\b\b\b\b\b\b\b\b\b\b\b\b\r21355/21355 [==============================] - 282s 13ms/step - loss: 2.2036 - root_mean_squared_error: 1.4844 - val_loss: 2.1169 - val_root_mean_squared_error: 1.4549\n",
            "Epoch 8/15\n",
            "21355/21355 [==============================] - 272s 13ms/step - loss: 2.1618 - root_mean_squared_error: 1.4703 - val_loss: 2.1378 - val_root_mean_squared_error: 1.4621\n",
            "Epoch 9/15\n",
            "21351/21355 [============================>.] - ETA: 0s - loss: 2.1274 - root_mean_squared_error: 1.4586"
          ]
        },
        {
          "output_type": "stream",
          "name": "stderr",
          "text": [
            "WARNING:absl:Found untraced functions such as lstm_cell_2_layer_call_fn, lstm_cell_2_layer_call_and_return_conditional_losses, lstm_cell_3_layer_call_fn, lstm_cell_3_layer_call_and_return_conditional_losses while saving (showing 4 of 4). These functions will not be directly callable after loading.\n"
          ]
        },
        {
          "output_type": "stream",
          "name": "stdout",
          "text": [
            "\b\b\b\b\b\b\b\b\b\b\b\b\b\b\b\b\b\b\b\b\b\b\b\b\b\b\b\b\b\b\b\b\b\b\b\b\b\b\b\b\b\b\b\b\b\b\b\b\b\b\b\b\b\b\b\b\b\b\b\b\b\b\b\b\b\b\b\b\b\b\b\b\b\b\b\b\b\b\b\b\b\b\b\b\b\b\b\b\b\b\b\b\b\b\b\b\b\b\b\b\b\b\b\r21355/21355 [==============================] - 283s 13ms/step - loss: 2.1274 - root_mean_squared_error: 1.4586 - val_loss: 2.0525 - val_root_mean_squared_error: 1.4326\n",
            "Epoch 10/15\n",
            "21354/21355 [============================>.] - ETA: 0s - loss: 2.0969 - root_mean_squared_error: 1.4481"
          ]
        },
        {
          "output_type": "stream",
          "name": "stderr",
          "text": [
            "WARNING:absl:Found untraced functions such as lstm_cell_2_layer_call_fn, lstm_cell_2_layer_call_and_return_conditional_losses, lstm_cell_3_layer_call_fn, lstm_cell_3_layer_call_and_return_conditional_losses while saving (showing 4 of 4). These functions will not be directly callable after loading.\n"
          ]
        },
        {
          "output_type": "stream",
          "name": "stdout",
          "text": [
            "\b\b\b\b\b\b\b\b\b\b\b\b\b\b\b\b\b\b\b\b\b\b\b\b\b\b\b\b\b\b\b\b\b\b\b\b\b\b\b\b\b\b\b\b\b\b\b\b\b\b\b\b\b\b\b\b\b\b\b\b\b\b\b\b\b\b\b\b\b\b\b\b\b\b\b\b\b\b\b\b\b\b\b\b\b\b\b\b\b\b\b\b\b\b\b\b\b\b\b\b\b\b\b\r21355/21355 [==============================] - 282s 13ms/step - loss: 2.0969 - root_mean_squared_error: 1.4481 - val_loss: 1.9661 - val_root_mean_squared_error: 1.4022\n",
            "Epoch 11/15\n",
            "21355/21355 [==============================] - 271s 13ms/step - loss: 2.0692 - root_mean_squared_error: 1.4385 - val_loss: 1.9824 - val_root_mean_squared_error: 1.4080\n",
            "Epoch 12/15\n",
            "21355/21355 [==============================] - 271s 13ms/step - loss: 2.0443 - root_mean_squared_error: 1.4298 - val_loss: 1.9664 - val_root_mean_squared_error: 1.4023\n",
            "Epoch 13/15\n",
            "21355/21355 [==============================] - ETA: 0s - loss: 2.0219 - root_mean_squared_error: 1.4219"
          ]
        },
        {
          "output_type": "stream",
          "name": "stderr",
          "text": [
            "WARNING:absl:Found untraced functions such as lstm_cell_2_layer_call_fn, lstm_cell_2_layer_call_and_return_conditional_losses, lstm_cell_3_layer_call_fn, lstm_cell_3_layer_call_and_return_conditional_losses while saving (showing 4 of 4). These functions will not be directly callable after loading.\n"
          ]
        },
        {
          "output_type": "stream",
          "name": "stdout",
          "text": [
            "\b\b\b\b\b\b\b\b\b\b\b\b\b\b\b\b\b\b\b\b\b\b\b\b\b\b\b\b\b\b\b\b\b\b\b\b\b\b\b\b\b\b\b\b\b\b\b\b\b\b\b\b\b\b\b\b\b\b\b\b\b\b\b\b\b\b\b\b\b\b\b\b\b\b\b\b\b\b\b\b\b\b\b\b\b\b\b\b\b\b\b\b\b\b\b\b\b\b\b\b\b\b\b\r21355/21355 [==============================] - 282s 13ms/step - loss: 2.0219 - root_mean_squared_error: 1.4219 - val_loss: 1.9606 - val_root_mean_squared_error: 1.4002\n",
            "Epoch 14/15\n",
            "21355/21355 [==============================] - 270s 13ms/step - loss: 2.0001 - root_mean_squared_error: 1.4142 - val_loss: 1.9766 - val_root_mean_squared_error: 1.4059\n",
            "Epoch 15/15\n",
            "21351/21355 [============================>.] - ETA: 0s - loss: 1.9767 - root_mean_squared_error: 1.4060"
          ]
        },
        {
          "output_type": "stream",
          "name": "stderr",
          "text": [
            "WARNING:absl:Found untraced functions such as lstm_cell_2_layer_call_fn, lstm_cell_2_layer_call_and_return_conditional_losses, lstm_cell_3_layer_call_fn, lstm_cell_3_layer_call_and_return_conditional_losses while saving (showing 4 of 4). These functions will not be directly callable after loading.\n"
          ]
        },
        {
          "output_type": "stream",
          "name": "stdout",
          "text": [
            "\b\b\b\b\b\b\b\b\b\b\b\b\b\b\b\b\b\b\b\b\b\b\b\b\b\b\b\b\b\b\b\b\b\b\b\b\b\b\b\b\b\b\b\b\b\b\b\b\b\b\b\b\b\b\b\b\b\b\b\b\b\b\b\b\b\b\b\b\b\b\b\b\b\b\b\b\b\b\b\b\b\b\b\b\b\b\b\b\b\b\b\b\b\b\b\b\b\b\b\b\b\b\b\r21355/21355 [==============================] - 279s 13ms/step - loss: 1.9767 - root_mean_squared_error: 1.4060 - val_loss: 1.9232 - val_root_mean_squared_error: 1.3868\n"
          ]
        }
      ]
    },
    {
      "cell_type": "markdown",
      "source": [
        "## Saving Model"
      ],
      "metadata": {
        "id": "sbyQuS6-d3qX"
      }
    },
    {
      "cell_type": "code",
      "source": [
        "# Already saved in my drive, so I do not need to run it again.\n",
        "# lstm_model3.save('./Models/lstm_model3.h5')"
      ],
      "metadata": {
        "id": "ykmVo33E7uFe"
      },
      "execution_count": null,
      "outputs": []
    },
    {
      "cell_type": "markdown",
      "source": [
        "# Reload Models"
      ],
      "metadata": {
        "id": "AOVSl0EqnXeR"
      }
    },
    {
      "cell_type": "code",
      "source": [
        "# Reload MODEL 2\n",
        "load_lstm_model2 = load_model('./Models/lstm_model2.h5') # Used for predict()\n",
        "lstm2_log_file = pd.read_csv('./Models/LSTM_model2.log') # Load file into csv (epochs, loss, rmse, val_loss, etc..)"
      ],
      "metadata": {
        "id": "rZ9VPGcKKClc"
      },
      "execution_count": null,
      "outputs": []
    },
    {
      "cell_type": "code",
      "source": [
        "# Reload MODEL 3\n",
        "load_lstm_model3 = load_model('./Models/lstm_model3.h5') # Used for predict()\n",
        "lstm3_log_file = pd.read_csv('./Models/LSTM_model3.log') # Load file into csv (epochs, loss, rmse, val_loss, etc..)"
      ],
      "metadata": {
        "id": "j8OJm1jEIboT"
      },
      "execution_count": 11,
      "outputs": []
    },
    {
      "cell_type": "code",
      "source": [
        "lstm3_log_file"
      ],
      "metadata": {
        "id": "LuS7Boy_JUGY"
      },
      "execution_count": null,
      "outputs": []
    },
    {
      "cell_type": "markdown",
      "source": [
        "# Model 3 Learning Curves (Best Performance)"
      ],
      "metadata": {
        "id": "4PWAjDq6VRD8"
      }
    },
    {
      "cell_type": "code",
      "source": [
        "# Access the loss values from the lstm3_log_file DataFrame\n",
        "loss_values = lstm3_log_file['loss'].values\n",
        "val_loss_values = lstm3_log_file['val_loss'].values\n",
        "epochs = lstm3_log_file['epoch'].values\n",
        "\n",
        "epochs = range(1, len(loss_values) + 1)\n",
        "plt.plot(epochs, loss_values, 'y', label='Training loss')\n",
        "plt.plot(epochs, val_loss_values, 'b', label='Validation loss')\n",
        "plt.title('Training and validation loss')\n",
        "plt.xlabel('Epochs')\n",
        "plt.ylabel('Loss')\n",
        "plt.legend()\n",
        "plt.show()"
      ],
      "metadata": {
        "colab": {
          "base_uri": "https://localhost:8080/",
          "height": 472
        },
        "id": "cHxEDdJJ1LVM",
        "outputId": "96094fec-584c-4c4b-d240-3208213aa638"
      },
      "execution_count": 17,
      "outputs": [
        {
          "output_type": "display_data",
          "data": {
            "text/plain": [
              "<Figure size 640x480 with 1 Axes>"
            ],
            "image/png": "[encoded data removed]"
          },
          "metadata": {}
        }
      ]
    },
    {
      "cell_type": "code",
      "source": [
        "# Access the loss values from the lstm3_log_file DataFrame\n",
        "rmse_values = lstm3_log_file['root_mean_squared_error'].values\n",
        "val_rmse_values = lstm3_log_file['val_root_mean_squared_error'].values\n",
        "epochs = lstm3_log_file['epoch'].values\n",
        "\n",
        "epochs = range(1, len(rmse_values) + 1)\n",
        "plt.plot(epochs, rmse_values, 'y', label='Training RMSE')\n",
        "plt.plot(epochs, val_rmse_values, 'b', label='Validation RMSE')\n",
        "plt.title('Training RMSE and Validation RMSE')\n",
        "plt.xlabel('Epochs')\n",
        "plt.ylabel('RMSE')\n",
        "plt.legend()\n",
        "plt.show()"
      ],
      "metadata": {
        "colab": {
          "base_uri": "https://localhost:8080/",
          "height": 472
        },
        "id": "uG-1fScY4exG",
        "outputId": "d20394ef-3f74-4d70-f9c0-c83e08ee1460"
      },
      "execution_count": 18,
      "outputs": [
        {
          "output_type": "display_data",
          "data": {
            "text/plain": [
              "<Figure size 640x480 with 1 Axes>"
            ],
            "image/png": "[encoded data removed]"
          },
          "metadata": {}
        }
      ]
    },
    {
      "cell_type": "markdown",
      "source": [
        "# Making Predictions"
      ],
      "metadata": {
        "id": "s0o3QO3_fTB6"
      }
    },
    {
      "cell_type": "code",
      "source": [
        "# Predict using MODEL 2\n",
        "predictions_2 = loaded_lstm_model2.predict(test_daily_x)"
      ],
      "metadata": {
        "colab": {
          "base_uri": "https://localhost:8080/"
        },
        "id": "J-MMYR1_fx0j",
        "outputId": "2d322f27-c1b6-470e-a000-78ae938260ad"
      },
      "execution_count": 62,
      "outputs": [
        {
          "output_type": "stream",
          "name": "stdout",
          "text": [
            "214119/214119 [==============================] - 481s 2ms/step\n"
          ]
        }
      ]
    },
    {
      "cell_type": "code",
      "execution_count": 14,
      "metadata": {
        "id": "qexsWhdZuqHt",
        "colab": {
          "base_uri": "https://localhost:8080/"
        },
        "outputId": "7ecc3ec5-2f6f-4696-aac0-01e2dc761a43"
      },
      "outputs": [
        {
          "output_type": "stream",
          "name": "stdout",
          "text": [
            "214119/214119 [==============================] - 485s 2ms/step\n"
          ]
        }
      ],
      "source": [
        "# Predict using MODEL 3\n",
        "predictions_3 = load_lstm_model3.predict(test_x_scaled_3D)"
      ]
    },
    {
      "cell_type": "markdown",
      "source": [
        "Create a dataframe with Model 2 predictions test results"
      ],
      "metadata": {
        "id": "fXEMxd13LaKu"
      }
    },
    {
      "cell_type": "code",
      "source": [
        "# Create a dataframe with the test results of model 2\n",
        "test_results_2 = pd.DataFrame()\n",
        "test_results_2 = pd.concat([test_results_2, test_daily_x[['building_id', 'site_id', 'meter', 'hour', 'day', 'month']]], axis=1)\n",
        "test_results_2['meter_reading_actual_values'] = test_daily_y\n",
        "test_results_2['meter_reading_predicted_values'] = predictions_2"
      ],
      "metadata": {
        "id": "6bpcoTkBgcQR"
      },
      "execution_count": null,
      "outputs": []
    },
    {
      "cell_type": "markdown",
      "source": [
        "Create a dataframe with Model 3 predictions test results"
      ],
      "metadata": {
        "id": "sza201siKzCF"
      }
    },
    {
      "cell_type": "code",
      "source": [
        "# Create a dataframe with the test results of model 3\n",
        "test_results_3 = pd.DataFrame()\n",
        "test_results_3 = pd.concat([test_results_3, test_daily_x[['building_id', 'site_id', 'meter', 'hour', 'day', 'month']]], axis=1)\n",
        "test_results_3['actual_values'] = test_daily_y\n",
        "test_results_3['predicted_values'] = predictions_3"
      ],
      "metadata": {
        "id": "ELKPITDWNqaG"
      },
      "execution_count": 15,
      "outputs": []
    },
    {
      "cell_type": "code",
      "source": [
        "test_results_3"
      ],
      "metadata": {
        "colab": {
          "base_uri": "https://localhost:8080/",
          "height": 424
        },
        "id": "Si22-3GCmr3q",
        "outputId": "3962d73c-fd79-4509-9bcb-01aa17a56013"
      },
      "execution_count": 16,
      "outputs": [
        {
          "output_type": "execute_result",
          "data": {
            "text/plain": [
              "         building_id  site_id  meter  hour  day  month  actual_values  \\\n",
              "0                  0        0      0     0    1      9       4.331021   \n",
              "1                  1        0      0     0    1      9       3.746486   \n",
              "2                  2        0      0     0    1      9       1.818324   \n",
              "3                  3        0      0     0    1      9       4.821378   \n",
              "4                  4        0      0     0    1      9       6.138452   \n",
              "...              ...      ...    ...   ...  ...    ...            ...   \n",
              "6851784         1444       15      0    23   31     12       2.277267   \n",
              "6851785         1445       15      0    23   31     12       1.762159   \n",
              "6851786         1446       15      0    23   31     12       0.000000   \n",
              "6851787         1447       15      0    23   31     12       5.078761   \n",
              "6851788         1448       15      0    23   31     12       1.348073   \n",
              "\n",
              "         predicted_values  \n",
              "0                4.097044  \n",
              "1                3.248057  \n",
              "2                2.758704  \n",
              "3                4.894731  \n",
              "4                5.971176  \n",
              "...                   ...  \n",
              "6851784          2.276962  \n",
              "6851785          2.312309  \n",
              "6851786          1.874131  \n",
              "6851787          3.131851  \n",
              "6851788          4.317820  \n",
              "\n",
              "[6851789 rows x 8 columns]"
            ],
            "text/html": [
              "\n",
              "  <div id=\"df-7143fb52-3951-4812-a851-a7640360dd1d\">\n",
              "    <div class=\"colab-df-container\">\n",
              "      <div>\n",
              "<style scoped>\n",
              "    .dataframe tbody tr th:only-of-type {\n",
              "        vertical-align: middle;\n",
              "    }\n",
              "\n",
              "    .dataframe tbody tr th {\n",
              "        vertical-align: top;\n",
              "    }\n",
              "\n",
              "    .dataframe thead th {\n",
              "        text-align: right;\n",
              "    }\n",
              "</style>\n",
              "<table border=\"1\" class=\"dataframe\">\n",
              "  <thead>\n",
              "    <tr style=\"text-align: right;\">\n",
              "      <th></th>\n",
              "      <th>building_id</th>\n",
              "      <th>site_id</th>\n",
              "      <th>meter</th>\n",
              "      <th>hour</th>\n",
              "      <th>day</th>\n",
              "      <th>month</th>\n",
              "      <th>actual_values</th>\n",
              "      <th>predicted_values</th>\n",
              "    </tr>\n",
              "  </thead>\n",
              "  <tbody>\n",
              "    <tr>\n",
              "      <th>0</th>\n",
              "      <td>0</td>\n",
              "      <td>0</td>\n",
              "      <td>0</td>\n",
              "      <td>0</td>\n",
              "      <td>1</td>\n",
              "      <td>9</td>\n",
              "      <td>4.331021</td>\n",
              "      <td>4.097044</td>\n",
              "    </tr>\n",
              "    <tr>\n",
              "      <th>1</th>\n",
              "      <td>1</td>\n",
              "      <td>0</td>\n",
              "      <td>0</td>\n",
              "      <td>0</td>\n",
              "      <td>1</td>\n",
              "      <td>9</td>\n",
              "      <td>3.746486</td>\n",
              "      <td>3.248057</td>\n",
              "    </tr>\n",
              "    <tr>\n",
              "      <th>2</th>\n",
              "      <td>2</td>\n",
              "      <td>0</td>\n",
              "      <td>0</td>\n",
              "      <td>0</td>\n",
              "      <td>1</td>\n",
              "      <td>9</td>\n",
              "      <td>1.818324</td>\n",
              "      <td>2.758704</td>\n",
              "    </tr>\n",
              "    <tr>\n",
              "      <th>3</th>\n",
              "      <td>3</td>\n",
              "      <td>0</td>\n",
              "      <td>0</td>\n",
              "      <td>0</td>\n",
              "      <td>1</td>\n",
              "      <td>9</td>\n",
              "      <td>4.821378</td>\n",
              "      <td>4.894731</td>\n",
              "    </tr>\n",
              "    <tr>\n",
              "      <th>4</th>\n",
              "      <td>4</td>\n",
              "      <td>0</td>\n",
              "      <td>0</td>\n",
              "      <td>0</td>\n",
              "      <td>1</td>\n",
              "      <td>9</td>\n",
              "      <td>6.138452</td>\n",
              "      <td>5.971176</td>\n",
              "    </tr>\n",
              "    <tr>\n",
              "      <th>...</th>\n",
              "      <td>...</td>\n",
              "      <td>...</td>\n",
              "      <td>...</td>\n",
              "      <td>...</td>\n",
              "      <td>...</td>\n",
              "      <td>...</td>\n",
              "      <td>...</td>\n",
              "      <td>...</td>\n",
              "    </tr>\n",
              "    <tr>\n",
              "      <th>6851784</th>\n",
              "      <td>1444</td>\n",
              "      <td>15</td>\n",
              "      <td>0</td>\n",
              "      <td>23</td>\n",
              "      <td>31</td>\n",
              "      <td>12</td>\n",
              "      <td>2.277267</td>\n",
              "      <td>2.276962</td>\n",
              "    </tr>\n",
              "    <tr>\n",
              "      <th>6851785</th>\n",
              "      <td>1445</td>\n",
              "      <td>15</td>\n",
              "      <td>0</td>\n",
              "      <td>23</td>\n",
              "      <td>31</td>\n",
              "      <td>12</td>\n",
              "      <td>1.762159</td>\n",
              "      <td>2.312309</td>\n",
              "    </tr>\n",
              "    <tr>\n",
              "      <th>6851786</th>\n",
              "      <td>1446</td>\n",
              "      <td>15</td>\n",
              "      <td>0</td>\n",
              "      <td>23</td>\n",
              "      <td>31</td>\n",
              "      <td>12</td>\n",
              "      <td>0.000000</td>\n",
              "      <td>1.874131</td>\n",
              "    </tr>\n",
              "    <tr>\n",
              "      <th>6851787</th>\n",
              "      <td>1447</td>\n",
              "      <td>15</td>\n",
              "      <td>0</td>\n",
              "      <td>23</td>\n",
              "      <td>31</td>\n",
              "      <td>12</td>\n",
              "      <td>5.078761</td>\n",
              "      <td>3.131851</td>\n",
              "    </tr>\n",
              "    <tr>\n",
              "      <th>6851788</th>\n",
              "      <td>1448</td>\n",
              "      <td>15</td>\n",
              "      <td>0</td>\n",
              "      <td>23</td>\n",
              "      <td>31</td>\n",
              "      <td>12</td>\n",
              "      <td>1.348073</td>\n",
              "      <td>4.317820</td>\n",
              "    </tr>\n",
              "  </tbody>\n",
              "</table>\n",
              "<p>6851789 rows × 8 columns</p>\n",
              "</div>\n",
              "      <button class=\"colab-df-convert\" onclick=\"convertToInteractive('df-7143fb52-3951-4812-a851-a7640360dd1d')\"\n",
              "              title=\"Convert this dataframe to an interactive table.\"\n",
              "              style=\"display:none;\">\n",
              "        \n",
              "  <svg xmlns=\"http://www.w3.org/2000/svg\" height=\"24px\"viewBox=\"0 0 24 24\"\n",
              "       width=\"24px\">\n",
              "    <path d=\"M0 0h24v24H0V0z\" fill=\"none\"/>\n",
              "    <path d=\"M18.56 5.44l.94 2.06.94-2.06 2.06-.94-2.06-.94-.94-2.06-.94 2.06-2.06.94zm-11 1L8.5 8.5l.94-2.06 2.06-.94-2.06-.94L8.5 2.5l-.94 2.06-2.06.94zm10 10l.94 2.06.94-2.06 2.06-.94-2.06-.94-.94-2.06-.94 2.06-2.06.94z\"/><path d=\"M17.41 7.96l-1.37-1.37c-.4-.4-.92-.59-1.43-.59-.52 0-1.04.2-1.43.59L10.3 9.45l-7.72 7.72c-.78.78-.78 2.05 0 2.83L4 21.41c.39.39.9.59 1.41.59.51 0 1.02-.2 1.41-.59l7.78-7.78 2.81-2.81c.8-.78.8-2.07 0-2.86zM5.41 20L4 18.59l7.72-7.72 1.47 1.35L5.41 20z\"/>\n",
              "  </svg>\n",
              "      </button>\n",
              "      \n",
              "  <style>\n",
              "    .colab-df-container {\n",
              "      display:flex;\n",
              "      flex-wrap:wrap;\n",
              "      gap: 12px;\n",
              "    }\n",
              "\n",
              "    .colab-df-convert {\n",
              "      background-color: #E8F0FE;\n",
              "      border: none;\n",
              "      border-radius: 50%;\n",
              "      cursor: pointer;\n",
              "      display: none;\n",
              "      fill: #1967D2;\n",
              "      height: 32px;\n",
              "      padding: 0 0 0 0;\n",
              "      width: 32px;\n",
              "    }\n",
              "\n",
              "    .colab-df-convert:hover {\n",
              "      background-color: #E2EBFA;\n",
              "      box-shadow: 0px 1px 2px rgba(60, 64, 67, 0.3), 0px 1px 3px 1px rgba(60, 64, 67, 0.15);\n",
              "      fill: #174EA6;\n",
              "    }\n",
              "\n",
              "    [theme=dark] .colab-df-convert {\n",
              "      background-color: #3B4455;\n",
              "      fill: #D2E3FC;\n",
              "    }\n",
              "\n",
              "    [theme=dark] .colab-df-convert:hover {\n",
              "      background-color: #434B5C;\n",
              "      box-shadow: 0px 1px 3px 1px rgba(0, 0, 0, 0.15);\n",
              "      filter: drop-shadow(0px 1px 2px rgba(0, 0, 0, 0.3));\n",
              "      fill: #FFFFFF;\n",
              "    }\n",
              "  </style>\n",
              "\n",
              "      <script>\n",
              "        const buttonEl =\n",
              "          document.querySelector('#df-7143fb52-3951-4812-a851-a7640360dd1d button.colab-df-convert');\n",
              "        buttonEl.style.display =\n",
              "          google.colab.kernel.accessAllowed ? 'block' : 'none';\n",
              "\n",
              "        async function convertToInteractive(key) {\n",
              "          const element = document.querySelector('#df-7143fb52-3951-4812-a851-a7640360dd1d');\n",
              "          const dataTable =\n",
              "            await google.colab.kernel.invokeFunction('convertToInteractive',\n",
              "                                                     [key], {});\n",
              "          if (!dataTable) return;\n",
              "\n",
              "          const docLinkHtml = 'Like what you see? Visit the ' +\n",
              "            '<a target=\"_blank\" href=https://colab.research.google.com/notebooks/data_table.ipynb>data table notebook</a>'\n",
              "            + ' to learn more about interactive tables.';\n",
              "          element.innerHTML = '';\n",
              "          dataTable['output_type'] = 'display_data';\n",
              "          await google.colab.output.renderOutput(dataTable, element);\n",
              "          const docLink = document.createElement('div');\n",
              "          docLink.innerHTML = docLinkHtml;\n",
              "          element.appendChild(docLink);\n",
              "        }\n",
              "      </script>\n",
              "    </div>\n",
              "  </div>\n",
              "  "
            ]
          },
          "metadata": {},
          "execution_count": 16
        }
      ]
    },
    {
      "cell_type": "markdown",
      "source": [
        "Plotting the predicted values vs actual values for a year"
      ],
      "metadata": {
        "id": "TAC9hwoFWHQ3"
      }
    },
    {
      "cell_type": "code",
      "source": [
        "# Extract the required columns from test_results_3\n",
        "# Aggregate the actual and predicted values by month\n",
        "actual_monthly = test_results_3.groupby('month')['actual_values'].sum()\n",
        "predicted_monthly = test_results_3.groupby('month')['predicted_values'].sum()\n",
        "\n",
        "# Create the plot\n",
        "plt.figure(figsize=(12, 6))\n",
        "plt.plot(actual_monthly, marker='o', label='Actual')\n",
        "plt.plot(predicted_monthly, marker='o', label='Predicted')\n",
        "plt.xlabel('Month')\n",
        "plt.ylabel('Meter Reading')\n",
        "plt.title('Actual vs Predicted Meter Reading for a Whole Year')\n",
        "plt.legend()\n",
        "plt.grid(True)\n",
        "plt.show()"
      ],
      "metadata": {
        "colab": {
          "base_uri": "https://localhost:8080/",
          "height": 564
        },
        "id": "C1KHNGqkPlqS",
        "outputId": "740608b1-8669-42de-ab76-b0d19fd56038"
      },
      "execution_count": 54,
      "outputs": [
        {
          "output_type": "display_data",
          "data": {
            "text/plain": [
              "<Figure size 1200x600 with 1 Axes>"
            ],
            "image/png": "[encoded data removed]"
          },
          "metadata": {}
        }
      ]
    },
    {
      "cell_type": "markdown",
      "source": [
        "# Model Evaluation Using Test Set (Predicted Values)"
      ],
      "metadata": {
        "id": "-w-XopqlUfro"
      }
    },
    {
      "cell_type": "code",
      "source": [
        "# Calculating and Printing MAE for Model 1, 2 and 3\n",
        "mae_2 = mean_absolute_error(test_daily_y, predictions_2)\n",
        "mae_3 = mean_absolute_error(test_daily_y, predictions_3)\n",
        "\n",
        "print(\"Mean Absolute Error (MAE) for model 2: \", mae_2)\n",
        "print(\"Mean Absolute Error (MAE) for model 3: \", mae_3)"
      ],
      "metadata": {
        "colab": {
          "base_uri": "https://localhost:8080/"
        },
        "id": "tIkVANIXCj02",
        "outputId": "4564a5a8-1520-4be1-ad4b-6f88e1a9f0f6"
      },
      "execution_count": 18,
      "outputs": [
        {
          "output_type": "stream",
          "name": "stdout",
          "text": [
            "Mean Absolute Error (MAE): 1.1333987059157313\n"
          ]
        }
      ]
    },
    {
      "cell_type": "code",
      "source": [
        "#Calculating and printing R^2 for Model 1, 2 and 3\n",
        "r2_2 = r2_score(test_daily_y, predictions_2)\n",
        "r2_3 = r2_score(test_daily_y, predictions_3)\n",
        "\n",
        "print(\"Coefficient of Determination (R^2):\", r2_2)\n",
        "print(\"Coefficient of Determination (R^2):\", r2_3)"
      ],
      "metadata": {
        "colab": {
          "base_uri": "https://localhost:8080/"
        },
        "id": "IHty-P2iIkSI",
        "outputId": "b7bf5008-452b-43a6-d12c-3c0b4ebd4299"
      },
      "execution_count": 28,
      "outputs": [
        {
          "output_type": "stream",
          "name": "stdout",
          "text": [
            "Coefficient of Determination (R^2): 0.3822797579832816\n"
          ]
        }
      ]
    },
    {
      "cell_type": "code",
      "source": [
        "# Creating a function for MAPE\n",
        "# Added a small epsilon value because the test_daily_y (y_true) has zero values\n",
        "def mean_absolute_percentage_error(y_true, y_pred):\n",
        "    epsilon = 1e-7  # Small epsilon value\n",
        "    percentage_errors = np.abs((y_true - y_pred) / np.maximum(np.abs(y_true), epsilon))\n",
        "    mape = np.mean(percentage_errors) * 100\n",
        "    return mape"
      ],
      "metadata": {
        "id": "5dlsLt2uJm6U"
      },
      "execution_count": null,
      "outputs": []
    },
    {
      "cell_type": "code",
      "source": [
        "mape2 = mean_absolute_percentage_error(test_daily_y, predictions_2)\n",
        "mape3 = mean_absolute_percentage_error(test_daily_y, predictions_3)\n",
        "\n",
        "print(\"Mean Absolute Percentage Error for model 2: \", mape2)\n",
        "print(\"Mean Absolute Percentage Error for model 3: \", mape3)"
      ],
      "metadata": {
        "colab": {
          "base_uri": "https://localhost:8080/"
        },
        "id": "AOmY2wwXJyjk",
        "outputId": "f81ba77b-073d-42e3-d374-519bd606a773"
      },
      "execution_count": 38,
      "outputs": [
        {
          "output_type": "stream",
          "name": "stdout",
          "text": [
            "MAPE: meter_reading_log1p    2.360180e+08\n",
            "dtype: float64\n"
          ]
        }
      ]
    },
    {
      "cell_type": "code",
      "source": [
        "# Calculating MSE and RMSE, printing BOTH for model 1, 2 and 3\n",
        "import math \n",
        "\n",
        "# Mean Squared Error\n",
        "mse2 = mean_squared_error(test_results_2['actual_values'], test_results_2['predicted_values'])\n",
        "mse3 = mean_squared_error(test_results_3['actual_values'], test_results_3['predicted_values'])\n",
        "\n",
        "# Root Mean Squared Error (RMSE)\n",
        "rmse2 = math.sqrt(mse2)\n",
        "rmse3 = math.sqrt(mse3)\n",
        "\n",
        "print(\"The Root Mean Squared Error for model 2: \", rmse2)\n",
        "print(\"The Root Mean Squared Error for model 3: \", rmse3)"
      ],
      "metadata": {
        "colab": {
          "base_uri": "https://localhost:8080/"
        },
        "id": "Xj0hIqDbWVUc",
        "outputId": "9583d3fc-9274-4a6e-cc62-6f30699290c0"
      },
      "execution_count": 57,
      "outputs": [
        {
          "output_type": "stream",
          "name": "stdout",
          "text": [
            "The Root Mean Squared Error is:  1.4059686660766602\n"
          ]
        }
      ]
    }
  ],
  "metadata": {
    "accelerator": "TPU",
    "colab": {
      "collapsed_sections": [
        "mV_PjTbf3a4e",
        "GxnJyJClFVJ-",
        "yTJQv30t30hu",
        "4PWAjDq6VRD8"
      ],
      "machine_shape": "hm",
      "provenance": [],
      "toc_visible": true,
      "mount_file_id": "1OOIRGJdeufaUQXRJ_VHgalnhtWh-__nz",
      "authorship_tag": "ABX9TyMfFAzVnYnPw7UEEXeBgMBx",
      "include_colab_link": true
    },
    "gpuClass": "standard",
    "kernelspec": {
      "display_name": "Python 3",
      "name": "python3"
    },
    "language_info": {
      "name": "python"
    }
  },
  "nbformat": 4,
  "nbformat_minor": 0
}